{
 "cells": [
  {
   "cell_type": "code",
   "execution_count": null,
   "metadata": {
    "collapsed": true
   },
   "outputs": [],
   "source": [
    "library(psych)"
   ]
  },
  {
   "cell_type": "code",
   "execution_count": null,
   "metadata": {
    "collapsed": true
   },
   "outputs": [],
   "source": [
    "workingdirectory = \"C:/Users/Administrator/Documents/Master/MSIS-5223-70250 - Programming for Data Sci - 8282017 - 159 PM/Homework\"\n",
    "setwd(workingdirectory)\n",
    "Personnel = paste(workingdirectory,\"\\\\CaliforniaHospitalData_Personnel.txt\", sep=\"\")\n",
    "Hospital =paste(workingdirectory,\"\\\\CaliforniaHospitalData.csv\", sep=\"\")\n",
    "Personnel = read.table(Personnel,header=T, sep=\"\\t\" )\n",
    "Hospital = read.csv(Hospital,header =T, sep =\",\")\n",
    "df3 = merge(Personnel, Hospital,nomatch = 0)\n",
    "\n"
   ]
  },
  {
   "cell_type": "code",
   "execution_count": null,
   "metadata": {},
   "outputs": [],
   "source": [
    "df3\n",
    "nrow(df3)"
   ]
  },
  {
   "cell_type": "markdown",
   "metadata": {},
   "source": [
    "# Subset random rows"
   ]
  },
  {
   "cell_type": "code",
   "execution_count": null,
   "metadata": {
    "collapsed": true
   },
   "outputs": [],
   "source": [
    "dat.sub <- df3[sample(nrow(df3), 20), ]"
   ]
  },
  {
   "cell_type": "markdown",
   "metadata": {
    "collapsed": true
   },
   "source": [
    "# Select existing hospital"
   ]
  },
  {
   "cell_type": "code",
   "execution_count": null,
   "metadata": {},
   "outputs": [],
   "source": [
    "Random = df3[sample(nrow(df3),1),]\n",
    "Random"
   ]
  },
  {
   "cell_type": "markdown",
   "metadata": {
    "collapsed": true
   },
   "source": [
    "# Add New Position and my last and first name"
   ]
  },
  {
   "cell_type": "code",
   "execution_count": null,
   "metadata": {},
   "outputs": [],
   "source": [
    "Random$Work_ID <- as.integer(999999)\n",
    "Random$LastName <- factor('Pham')\n",
    "Random$FirstName <- factor('Khanh')\n",
    "Random$PositionID <- as.integer(5)\n",
    "Random$StartDate <- factor(\"9/9/2017\")\n",
    "Random"
   ]
  },
  {
   "cell_type": "code",
   "execution_count": null,
   "metadata": {
    "scrolled": false
   },
   "outputs": [],
   "source": [
    "df3 <- merge(df3,Random,all=TRUE)\n",
    "nrow(df3)"
   ]
  },
  {
   "cell_type": "markdown",
   "metadata": {
    "collapsed": true
   },
   "source": [
    "# Covert Any date-tmime columns into a datetime datatype"
   ]
  },
  {
   "cell_type": "code",
   "execution_count": null,
   "metadata": {},
   "outputs": [],
   "source": [
    "df3$StartDate <- as.Date(df3$StartDate, format = \"%m/%d/%Y\")\n",
    "str(df3$StartDate)"
   ]
  },
  {
   "cell_type": "markdown",
   "metadata": {},
   "source": [
    "# Remove the three primary keys"
   ]
  },
  {
   "cell_type": "code",
   "execution_count": null,
   "metadata": {},
   "outputs": [],
   "source": [
    "df3$HospitalID <- NULL\n",
    "df3$Work_ID <- NULL\n",
    "df3$PositionID <- NULL\n",
    "df3"
   ]
  },
  {
   "cell_type": "markdown",
   "metadata": {},
   "source": [
    "# Filter numeric variables and Provide a summary of the mean, median, minimum value, and maximum value"
   ]
  },
  {
   "cell_type": "code",
   "execution_count": null,
   "metadata": {},
   "outputs": [],
   "source": [
    "nums <- df3[sapply(df3, is.numeric)]\n",
    "summary(nums)"
   ]
  },
  {
   "cell_type": "code",
   "execution_count": null,
   "metadata": {
    "collapsed": true
   },
   "outputs": [],
   "source": [
    "write.table(df3, \"Khanh_Pham_Export.txt\", sep=\"\\t\")"
   ]
  },
  {
   "cell_type": "markdown",
   "metadata": {},
   "source": [
    "# Open New data"
   ]
  },
  {
   "cell_type": "code",
   "execution_count": null,
   "metadata": {
    "collapsed": true
   },
   "outputs": [],
   "source": [
    "dfnew = paste(workingdirectory,\"\\\\Khanh_Pham_Export.txt\", sep=\"\")\n",
    "dfnew = read.table(dfnew, header = T,sep = \"\\t\")"
   ]
  },
  {
   "cell_type": "markdown",
   "metadata": {},
   "source": [
    "# Histogram"
   ]
  },
  {
   "cell_type": "code",
   "execution_count": null,
   "metadata": {
    "collapsed": true
   },
   "outputs": [],
   "source": [
    "attach(dfnew)"
   ]
  },
  {
   "cell_type": "code",
   "execution_count": null,
   "metadata": {
    "scrolled": false
   },
   "outputs": [],
   "source": [
    "hist(NoFTE)\n",
    "hist(InOperExp)\n",
    "hist(OutOperExp)\n",
    "hist(OperRev)\n",
    "hist(OperInc)\n",
    "hist(AvlBeds)\n",
    "hist(NetPatRev)"
   ]
  },
  {
   "cell_type": "code",
   "execution_count": null,
   "metadata": {},
   "outputs": [],
   "source": [
    "plot(NoFTE)\n",
    "plot(InOperExp)\n",
    "plot(OutOperExp)\n",
    "plot(OperRev)\n",
    "plot(OperInc)\n",
    "plot(AvlBeds)\n"
   ]
  },
  {
   "cell_type": "markdown",
   "metadata": {},
   "source": [
    "# Create boxplot"
   ]
  },
  {
   "cell_type": "code",
   "execution_count": null,
   "metadata": {
    "scrolled": false
   },
   "outputs": [],
   "source": [
    "boxplot(NoFTE)\n",
    "boxplot(InOperExp)\n",
    "boxplot(OutOperExp)\n",
    "boxplot(OperRev)\n",
    "boxplot(OperInc)\n",
    "boxplot(AvlBeds)\n",
    "boxplot(NetPavRev)"
   ]
  },
  {
   "cell_type": "code",
   "execution_count": null,
   "metadata": {
    "scrolled": false
   },
   "outputs": [],
   "source": [
    "qqnorm(NoFTE, main = 'NoFTE')\n",
    "qqline(NoFTE, col ='red')\n",
    "qqnorm(InOperExp, main = 'InOperExp')\n",
    "qqline(InOperExp, col ='red')\n",
    "qqnorm(OutOperExp, main = 'OutOperExp')\n",
    "qqline(OutOperExp, col ='red')\n",
    "qqnorm(OperRev, main = 'OperRev')\n",
    "qqline(OperRev, col ='red')\n",
    "qqnorm(OperInc, main = 'OperInc')\n",
    "qqline(OperInc, col ='red')\n",
    "qqnorm(AvlBeds, main = 'AvlBeds')\n",
    "qqline(AvlBeds, col ='red')"
   ]
  },
  {
   "cell_type": "code",
   "execution_count": null,
   "metadata": {},
   "outputs": [],
   "source": [
    "shapiro.test(NoFTE)\n",
    "shapiro.test(InOperExp)\n",
    "shapiro.test(OutOperExp)\n",
    "shapiro.test(OperRev)\n",
    "shapiro.test(OperInc)\n",
    "shapiro.test(AvlBeds)"
   ]
  },
  {
   "cell_type": "code",
   "execution_count": null,
   "metadata": {},
   "outputs": [],
   "source": [
    "names(dfnew)\n",
    "unique(PositionTitle)"
   ]
  },
  {
   "cell_type": "code",
   "execution_count": null,
   "metadata": {
    "scrolled": false
   },
   "outputs": [],
   "source": [
    "barplot(table(PositionTitle),cex.names = 0.5,horiz =TRUE, beside=TRUE,main = 'Postition Tittle')\n",
    "barplot(table(TypeControl),horiz =TRUE, beside=TRUE, main = ' Control Type')\n",
    "barplot(table(Teaching), beside=TRUE, main= 'Teaching Type')\n",
    "barplot(table(DonorType), beside=TRUE, main = 'Donor Type')"
   ]
  },
  {
   "cell_type": "markdown",
   "metadata": {
    "collapsed": true
   },
   "source": [
    "# Only operinc variable is likely normaly distribution. Others is not so if non-Normality is an issue my manager may need to use a non-pamatric test"
   ]
  }
 ],
 "metadata": {
  "kernelspec": {
   "display_name": "R",
   "language": "R",
   "name": "ir"
  },
  "language_info": {
   "codemirror_mode": "r",
   "file_extension": ".r",
   "mimetype": "text/x-r-source",
   "name": "R",
   "pygments_lexer": "r",
   "version": "3.4.1"
  }
 },
 "nbformat": 4,
 "nbformat_minor": 2
}
