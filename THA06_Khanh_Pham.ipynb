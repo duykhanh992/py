{
 "cells": [
  {
   "cell_type": "code",
   "execution_count": null,
   "metadata": {
    "collapsed": true
   },
   "outputs": [],
   "source": [
    "import pandas as pd \n",
    "import numpy as np\n",
    "import matplotlib.pyplot as plt\n",
    "import os"
   ]
  },
  {
   "cell_type": "code",
   "execution_count": null,
   "metadata": {
    "collapsed": true
   },
   "outputs": [],
   "source": [
    "%matplotlib inline"
   ]
  },
  {
   "cell_type": "markdown",
   "metadata": {},
   "source": [
    "# Binning of data"
   ]
  },
  {
   "cell_type": "code",
   "execution_count": null,
   "metadata": {
    "collapsed": true
   },
   "outputs": [],
   "source": [
    "from scipy.stats import binned_statistic\n",
    "from sklearn.preprocessing import LabelEncoder"
   ]
  },
  {
   "cell_type": "markdown",
   "metadata": {},
   "source": [
    "# Regression ouput"
   ]
  },
  {
   "cell_type": "code",
   "execution_count": null,
   "metadata": {
    "collapsed": true
   },
   "outputs": [],
   "source": [
    "from sklearn.linear_model import LinearRegression\n",
    "import statsmodels.formula.api as smf"
   ]
  },
  {
   "cell_type": "code",
   "execution_count": null,
   "metadata": {
    "collapsed": true
   },
   "outputs": [],
   "source": [
    "os.getcwd()"
   ]
  },
  {
   "cell_type": "markdown",
   "metadata": {},
   "source": [
    "# Import Personnel data"
   ]
  },
  {
   "cell_type": "code",
   "execution_count": null,
   "metadata": {
    "collapsed": true
   },
   "outputs": [],
   "source": [
    "Personnel = pd.read_table('CaliforniaHospitalData_Personnel.txt', sep = '\\t')"
   ]
  },
  {
   "cell_type": "markdown",
   "metadata": {},
   "source": [
    "# Import Hospital Data"
   ]
  },
  {
   "cell_type": "code",
   "execution_count": null,
   "metadata": {
    "collapsed": true,
    "scrolled": false
   },
   "outputs": [],
   "source": [
    "Hospital = pd.read_csv('CaliforniaHospitalData.csv',sep=',')"
   ]
  },
  {
   "cell_type": "markdown",
   "metadata": {},
   "source": [
    "# Joint Two Table"
   ]
  },
  {
   "cell_type": "code",
   "execution_count": null,
   "metadata": {
    "collapsed": true
   },
   "outputs": [],
   "source": [
    "df = pd.concat([Personnel, Hospital], axis=1, join='inner')"
   ]
  },
  {
   "cell_type": "code",
   "execution_count": null,
   "metadata": {
    "collapsed": true
   },
   "outputs": [],
   "source": [
    "df.dtypes"
   ]
  },
  {
   "cell_type": "code",
   "execution_count": null,
   "metadata": {
    "collapsed": true
   },
   "outputs": [],
   "source": [
    "dfnew = df"
   ]
  },
  {
   "cell_type": "code",
   "execution_count": null,
   "metadata": {
    "collapsed": true,
    "scrolled": false
   },
   "outputs": [],
   "source": [
    "dfnew = dfnew[['Teaching', 'DonorType', 'Gender', 'PositionTitle', 'Compensation','TypeControl','AvlBeds', 'OperInc', 'OperRev']]"
   ]
  },
  {
   "cell_type": "markdown",
   "metadata": {},
   "source": [
    "# Bin the variable AvlBeds and create a categorical variable. (2 pts.)         "
   ]
  },
  {
   "cell_type": "code",
   "execution_count": null,
   "metadata": {
    "collapsed": true
   },
   "outputs": [],
   "source": [
    "dfnew_AvlBeds = dfnew[['AvlBeds']]\n",
    "#ascending = dfnew_AvlBeds.sort_values(by='AvlBeds')\n",
    "#ascending\n"
   ]
  },
  {
   "cell_type": "code",
   "execution_count": null,
   "metadata": {
    "collapsed": true
   },
   "outputs": [],
   "source": [
    "dfnew_AvlBeds['AvlBeds'].plot.hist(alpha =0.5)"
   ]
  },
  {
   "cell_type": "code",
   "execution_count": null,
   "metadata": {
    "collapsed": true
   },
   "outputs": [],
   "source": [
    "dfnew_AvlBeds['AvlBeds'].max()"
   ]
  },
  {
   "cell_type": "code",
   "execution_count": null,
   "metadata": {
    "collapsed": true
   },
   "outputs": [],
   "source": [
    "dfnew_AvlBeds['AvlBeds'].min()"
   ]
  },
  {
   "cell_type": "code",
   "execution_count": null,
   "metadata": {
    "collapsed": true
   },
   "outputs": [],
   "source": [
    "bin_interval=[10,50,200,910]\n",
    "bin_counts,bin_edges,binnum = binned_statistic(dfnew_AvlBeds['AvlBeds'],dfnew_AvlBeds['AvlBeds'],statistic='count',bins = bin_interval)"
   ]
  },
  {
   "cell_type": "code",
   "execution_count": null,
   "metadata": {
    "collapsed": true
   },
   "outputs": [],
   "source": [
    "#bins = np.array(dfnew_AvlBeds['AvlBeds']);"
   ]
  },
  {
   "cell_type": "code",
   "execution_count": null,
   "metadata": {
    "collapsed": true
   },
   "outputs": [],
   "source": [
    "dfnew_AvlBeds['AvlBeds'].value_counts()"
   ]
  },
  {
   "cell_type": "code",
   "execution_count": null,
   "metadata": {
    "collapsed": true
   },
   "outputs": [],
   "source": [
    "#bin_counts,bin_edges,binnum = binned_statistic(dfnew_AvlBeds['AvlBeds'],dfnew_AvlBeds['AvlBeds'],statistic='count',bins=3)"
   ]
  },
  {
   "cell_type": "markdown",
   "metadata": {},
   "source": [
    "# bin_interval now looks normal distribution"
   ]
  },
  {
   "cell_type": "code",
   "execution_count": null,
   "metadata": {
    "collapsed": true
   },
   "outputs": [],
   "source": [
    "bin_counts"
   ]
  },
  {
   "cell_type": "code",
   "execution_count": null,
   "metadata": {
    "collapsed": true,
    "scrolled": true
   },
   "outputs": [],
   "source": [
    "bin_edges"
   ]
  },
  {
   "cell_type": "code",
   "execution_count": null,
   "metadata": {
    "collapsed": true
   },
   "outputs": [],
   "source": [
    "#binlabels = ['BedRange_12-311','BedRange_312-610','BedRange_611-909']"
   ]
  },
  {
   "cell_type": "markdown",
   "metadata": {},
   "source": [
    "# Recode the values in the age column based on the beginning"
   ]
  },
  {
   "cell_type": "code",
   "execution_count": null,
   "metadata": {
    "collapsed": true
   },
   "outputs": [],
   "source": [
    "binlabels = ['BedRange_10-50','BedRange_51-200','BedRange_201-910']"
   ]
  },
  {
   "cell_type": "code",
   "execution_count": null,
   "metadata": {
    "collapsed": true
   },
   "outputs": [],
   "source": [
    "Bed_categ = pd.cut(dfnew_AvlBeds['AvlBeds'],bins = 3,right=False,retbins=False, labels=binlabels)"
   ]
  },
  {
   "cell_type": "code",
   "execution_count": null,
   "metadata": {
    "collapsed": true,
    "scrolled": true
   },
   "outputs": [],
   "source": [
    "Bed_categ"
   ]
  },
  {
   "cell_type": "code",
   "execution_count": null,
   "metadata": {
    "collapsed": true
   },
   "outputs": [],
   "source": [
    "Bed_categ.name = 'Bed_categ'"
   ]
  },
  {
   "cell_type": "markdown",
   "metadata": {},
   "source": [
    "# Take the binning data and add it as a column to the dataframe"
   ]
  },
  {
   "cell_type": "code",
   "execution_count": null,
   "metadata": {
    "collapsed": true
   },
   "outputs": [],
   "source": [
    "dfnew1 = dfnew.join(pd.DataFrame(Bed_categ))\n",
    "dfnew1"
   ]
  },
  {
   "cell_type": "code",
   "execution_count": null,
   "metadata": {
    "collapsed": true,
    "scrolled": true
   },
   "outputs": [],
   "source": [
    "dfnew1[['AvlBeds','Bed_categ']].sort_values(by='AvlBeds')"
   ]
  },
  {
   "cell_type": "code",
   "execution_count": null,
   "metadata": {
    "collapsed": true
   },
   "outputs": [],
   "source": [
    "df_Bed = pd.get_dummies(dfnew1['Bed_categ'],sparse=True)\n",
    "#dummies= pd.get_dummies(dfnew1['Bed_categ'])\n",
    " #df_with_dummy = df[['data1']].join(dummies)\n",
    "# df_with_dummy\n",
    "#dummies['BedRange_10-50'] = dummies['BedRange_10-50'].apply(dummies.get).astype('flo')\n",
    "#dummies.dtypes\n"
   ]
  },
  {
   "cell_type": "code",
   "execution_count": null,
   "metadata": {
    "collapsed": true
   },
   "outputs": [],
   "source": [
    "df_Bed.head()\n",
    "#dummies.head()\n",
    "df_Bed.dtypes"
   ]
  },
  {
   "cell_type": "code",
   "execution_count": null,
   "metadata": {
    "collapsed": true
   },
   "outputs": [],
   "source": [
    "#df_Bed['BedRange_10-50'] = number.fit_transform(df_Bed['BedRange_10-50'].astype('str'))"
   ]
  },
  {
   "cell_type": "code",
   "execution_count": null,
   "metadata": {
    "collapsed": true
   },
   "outputs": [],
   "source": [
    "dfnew1 = dfnew1.join(df_Bed)"
   ]
  },
  {
   "cell_type": "code",
   "execution_count": null,
   "metadata": {
    "collapsed": true
   },
   "outputs": [],
   "source": [
    "dfnew1 = dfnew1.drop('Bed_categ', 1)"
   ]
  },
  {
   "cell_type": "code",
   "execution_count": null,
   "metadata": {
    "collapsed": true
   },
   "outputs": [],
   "source": [
    "dfnew1 = dfnew1.drop('AvlBeds', 1)"
   ]
  },
  {
   "cell_type": "code",
   "execution_count": null,
   "metadata": {
    "collapsed": true,
    "scrolled": false
   },
   "outputs": [],
   "source": [
    "dfnew1"
   ]
  },
  {
   "cell_type": "code",
   "execution_count": null,
   "metadata": {
    "collapsed": true
   },
   "outputs": [],
   "source": [
    "# Create dummies for gender\n",
    "#df_gender = pd.get_dummies(dfnew1['Gender'],prefix='Gender_')\n",
    "#df_gender.head()\n",
    "#dfnew1 =dfnew1.join(df_gender)\n",
    "#dfnew1"
   ]
  },
  {
   "cell_type": "code",
   "execution_count": null,
   "metadata": {
    "collapsed": true,
    "scrolled": true
   },
   "outputs": [],
   "source": [
    "number = LabelEncoder()\n",
    "dfnew1['Gender'] = number.fit_transform(dfnew1['Gender'].astype('str'))\n",
    "dfnew1.dtypes"
   ]
  },
  {
   "cell_type": "code",
   "execution_count": null,
   "metadata": {
    "collapsed": true
   },
   "outputs": [],
   "source": [
    "dfnew1.dtypes"
   ]
  },
  {
   "cell_type": "markdown",
   "metadata": {},
   "source": [
    "# Create Teaching column"
   ]
  },
  {
   "cell_type": "code",
   "execution_count": null,
   "metadata": {
    "collapsed": true
   },
   "outputs": [],
   "source": [
    "#df_Teaching = pd.get_dummies(dfnew1['DonorType'],prefix='Donor_')\n",
    "#df_Teaching.head()\n",
    "#dfnew1 =dfnew1.join(df_Teaching )\n",
    "number = LabelEncoder()\n",
    "dfnew1['DonorType'] = number.fit_transform(dfnew1['DonorType'].astype('str'))\n",
    "#dfnew1"
   ]
  },
  {
   "cell_type": "code",
   "execution_count": null,
   "metadata": {
    "collapsed": true
   },
   "outputs": [],
   "source": [
    "dfnew1['Teaching'] = number.fit_transform(dfnew1['Teaching'].astype('str'))"
   ]
  },
  {
   "cell_type": "code",
   "execution_count": null,
   "metadata": {
    "collapsed": true,
    "scrolled": true
   },
   "outputs": [],
   "source": [
    "dfnew1"
   ]
  },
  {
   "cell_type": "markdown",
   "metadata": {},
   "source": [
    "# Create dummies for  Position column"
   ]
  },
  {
   "cell_type": "code",
   "execution_count": null,
   "metadata": {
    "collapsed": true,
    "scrolled": false
   },
   "outputs": [],
   "source": [
    "#df_PositionTitles = pd.get_dummies(dfnew1['PositionTitles'],prefix='Donor_')\n",
    "#df_PositionTitles.head()\n",
    "#dfnew1 =dfnew1.join(df_PositionTitles )\n",
    "df_Position = pd.get_dummies(dfnew1['PositionTitle'],prefix ='_')\n",
    "df_Position.dtypes\n",
    "dfnew1 = dfnew1.join(df_Position)\n",
    "dfnew1"
   ]
  },
  {
   "cell_type": "markdown",
   "metadata": {},
   "source": [
    "# Create dummies for column Type Control"
   ]
  },
  {
   "cell_type": "code",
   "execution_count": null,
   "metadata": {
    "collapsed": true,
    "scrolled": false
   },
   "outputs": [],
   "source": [
    "#df_TyoeControl = pd.get_dummies(dfnew1['TypeControl'],prefix='Donor_')\n",
    "#df_TypeControl.head()\n",
    "df_Control = pd.get_dummies(dfnew1['TypeControl'],prefix='DonorType_')\n",
    "df_Control.head()\n",
    "dfnew1 =dfnew1.join(df_Control)\n",
    "dfnew1"
   ]
  },
  {
   "cell_type": "code",
   "execution_count": null,
   "metadata": {
    "collapsed": true
   },
   "outputs": [],
   "source": [
    "dfnew1 = dfnew1.drop('PositionTitle', 1)"
   ]
  },
  {
   "cell_type": "code",
   "execution_count": null,
   "metadata": {
    "collapsed": true
   },
   "outputs": [],
   "source": [
    "dfnew1 = dfnew1.drop('TypeControl', 1)"
   ]
  },
  {
   "cell_type": "code",
   "execution_count": null,
   "metadata": {
    "collapsed": true
   },
   "outputs": [],
   "source": [
    "#df_Bed['BedRange_201-910'] = number.fit_transform(df_Bed['BedRange_201-910'].astype('str'))"
   ]
  },
  {
   "cell_type": "code",
   "execution_count": null,
   "metadata": {
    "collapsed": true
   },
   "outputs": [],
   "source": [
    "#dfnew1['BedRange_51-200'] = number.fit_transform(dfnew1['BedRange_51-200'].astype('str'))"
   ]
  },
  {
   "cell_type": "markdown",
   "metadata": {},
   "source": [
    "# After I created dummies for categorical variables. Some of the data type pf variables are wierd. I try convert to int or float using \n",
    "#df_Bed['BedRange_10-50'] = number.fit_transform(df_Bed['BedRange_10-50'].astype('str'))\n",
    "# or #dfnew1['BedRange_51-200'] = number.fit_transform(dfnew1['BedRange_51-200'].astype('str'))\n",
    "#df_Bed['BedRange_201-910'] = number.fit_transform(df_Bed['BedRange_201-910'].astype('str'))\n",
    "# so my models is denpence on OperRev ~ Teaching + DonorType since they has interger data type.\n",
    "#Please tell me what is happened.\n",
    "\n",
    "# Base on model below I see the model Operation Revenue is better since Rsquare is better and P value is smaller\n"
   ]
  },
  {
   "cell_type": "code",
   "execution_count": null,
   "metadata": {
    "collapsed": true
   },
   "outputs": [],
   "source": [
    "dfnew1.dtypes"
   ]
  },
  {
   "cell_type": "code",
   "execution_count": null,
   "metadata": {
    "collapsed": true,
    "scrolled": false
   },
   "outputs": [],
   "source": [
    "Model_OperRev= smf.ols(formula = 'OperRev ~ Teaching + DonorType',data = dfnew1).fit()\n",
    "Model_OperRev.summary()"
   ]
  },
  {
   "cell_type": "code",
   "execution_count": null,
   "metadata": {
    "collapsed": true,
    "scrolled": false
   },
   "outputs": [],
   "source": [
    "Model_OperRev= smf.ols(formula = 'OperInc ~ Teaching + DonorType',data = dfnew1).fit()\n",
    "Model_OperRev.summary()"
   ]
  }
 ],
 "metadata": {
  "kernelspec": {
   "display_name": "Python [Root]",
   "language": "python",
   "name": "Python [Root]"
  },
  "language_info": {
   "codemirror_mode": {
    "name": "ipython",
    "version": 3
   },
   "file_extension": ".py",
   "mimetype": "text/x-python",
   "name": "python",
   "nbconvert_exporter": "python",
   "pygments_lexer": "ipython3",
   "version": "3.5.3"
  }
 },
 "nbformat": 4,
 "nbformat_minor": 2
}
