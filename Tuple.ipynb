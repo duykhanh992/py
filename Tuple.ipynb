{
 "cells": [
  {
   "cell_type": "raw",
   "metadata": {},
   "source": [
    "# Write a program to read through the mbox-short.txt and \n",
    "figure out the distribution by hour of the day for each of the messages. \n",
    "You can pull the hour out from the 'From ' line by finding the time and \n",
    "then splitting the string a second time using a colon. \n",
    "Once you have accumulated the counts for each hour, print out the counts, sorted by hour as shown below."
   ]
  },
  {
   "cell_type": "code",
   "execution_count": 1,
   "metadata": {},
   "outputs": [
    {
     "name": "stdout",
     "output_type": "stream",
     "text": [
      "Enter file:\n",
      "<_io.TextIOWrapper name='mbox-short.txt' mode='r' encoding='UTF-8'>\n"
     ]
    }
   ],
   "source": [
    "#Get the list\n",
    "name = input(\"Enter file:\")\n",
    "if len(name) < 1: name = 'mbox-short.txt'\n",
    "handle = open(name)\n",
    "print(handle)"
   ]
  },
  {
   "cell_type": "code",
   "execution_count": 2,
   "metadata": {},
   "outputs": [],
   "source": [
    "dic = dict()\n",
    "lst = list()\n",
    "for line in handle:\n",
    "    line.rstrip()\n",
    "    if not line.startswith('From '): continue\n",
    "    wrds = line.split()\n",
    "    words = wrds[5][:2]\n",
    "    lst.append(words)"
   ]
  },
  {
   "cell_type": "raw",
   "metadata": {},
   "source": [
    "import datetime\n",
    "words = wrds.spilt()\n",
    "date = datetime.datetime.strptime(words , \"%H:%M:%S\")\n",
    "print(date)"
   ]
  },
  {
   "cell_type": "code",
   "execution_count": 4,
   "metadata": {},
   "outputs": [
    {
     "name": "stdout",
     "output_type": "stream",
     "text": [
      "{'09': 2, '18': 1, '16': 4, '15': 2, '14': 1, '11': 6, '10': 3, '07': 1, '06': 1, '04': 3, '19': 1, '17': 2}\n"
     ]
    }
   ],
   "source": [
    "for w in lst:\n",
    "    dic[w] = dic.get(w,0) + 1\n",
    "print(dic)"
   ]
  },
  {
   "cell_type": "code",
   "execution_count": 7,
   "metadata": {
    "scrolled": true
   },
   "outputs": [
    {
     "name": "stdout",
     "output_type": "stream",
     "text": [
      "[('09', 2), ('18', 1), ('16', 4), ('15', 2), ('14', 1), ('11', 6), ('10', 3), ('07', 1), ('06', 1), ('04', 3), ('19', 1), ('17', 2)]\n"
     ]
    }
   ],
   "source": [
    "lst1 = list()\n",
    "for k, v in dic.items():\n",
    "    new = (k,v)\n",
    "    lst1.append(new)"
   ]
  },
  {
   "cell_type": "code",
   "execution_count": 11,
   "metadata": {
    "scrolled": true
   },
   "outputs": [
    {
     "name": "stdout",
     "output_type": "stream",
     "text": [
      "04 3\n",
      "06 1\n",
      "07 1\n",
      "09 2\n",
      "10 3\n",
      "11 6\n",
      "14 1\n",
      "15 2\n",
      "16 4\n",
      "17 2\n",
      "18 1\n",
      "19 1\n"
     ]
    }
   ],
   "source": [
    "lst1 = sorted(lst1)\n",
    "for k, v in lst1:\n",
    "    print(k, v)"
   ]
  },
  {
   "cell_type": "code",
   "execution_count": 2,
   "metadata": {},
   "outputs": [],
   "source": [
    "import os"
   ]
  },
  {
   "cell_type": "code",
   "execution_count": 3,
   "metadata": {},
   "outputs": [
    {
     "data": {
      "text/plain": [
       "'/home/khanhp/Documents/Python'"
      ]
     },
     "execution_count": 3,
     "metadata": {},
     "output_type": "execute_result"
    }
   ],
   "source": [
    "os.getcwd()\n"
   ]
  }
 ],
 "metadata": {
  "kernelspec": {
   "display_name": "Python 3",
   "language": "python",
   "name": "python3"
  },
  "language_info": {
   "codemirror_mode": {
    "name": "ipython",
    "version": 3
   },
   "file_extension": ".py",
   "mimetype": "text/x-python",
   "name": "python",
   "nbconvert_exporter": "python",
   "pygments_lexer": "ipython3",
   "version": "3.7.0"
  }
 },
 "nbformat": 4,
 "nbformat_minor": 2
}
