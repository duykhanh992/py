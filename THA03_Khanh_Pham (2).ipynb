{
 "cells": [
  {
   "cell_type": "code",
   "execution_count": 3,
   "metadata": {
    "collapsed": true
   },
   "outputs": [],
   "source": [
    "#Load dependencies\n",
    "import pandas as pd\n",
    "import numpy as np\n",
    "from sklearn import preprocessing\n",
    "from matplotlib import*\n",
    "import matplotlib.pyplot as plt\n",
    "from matplotlib.cm import register_cmap\n",
    "from scipy import stats\n",
    "#from wpca import PCA\n",
    "from sklearn.decomposition import PCA as sklearnPCA\n",
    "import seaborn\n",
    "from sklearn.decomposition import FactorAnalysis as fact\n",
    "import os\n",
    "from sklearn.cluster import KMeans\n",
    "from sklearn import cluster as cls\n",
    "import sklearn.metrics as metcs"
   ]
  },
  {
   "cell_type": "code",
   "execution_count": 4,
   "metadata": {
    "collapsed": true
   },
   "outputs": [],
   "source": [
    "dir = \"C:/Users/Administrator/Documents/Master/MSIS-5223-70250 - Programming for Data Sci - 8282017 - 159 PM/Homework\"\n",
    "os.chdir(dir)\n",
    "df = pd.read_table('Khanh_Pham_Export.txt',sep ='\\t')"
   ]
  },
  {
   "cell_type": "code",
   "execution_count": 5,
   "metadata": {},
   "outputs": [
    {
     "data": {
      "text/plain": [
       "LastName          object\n",
       "FirstName         object\n",
       "Gender            object\n",
       "PositionTitle     object\n",
       "Compensation       int64\n",
       "MaxTerm            int64\n",
       "StartDate         object\n",
       "Name              object\n",
       "Zip               object\n",
       "Website           object\n",
       "TypeControl       object\n",
       "Teaching          object\n",
       "DonorType         object\n",
       "NoFTE            float64\n",
       "NetPatRev        float64\n",
       "InOperExp        float64\n",
       "OutOperExp       float64\n",
       "OperRev            int64\n",
       "OperInc            int64\n",
       "AvlBeds            int64\n",
       "dtype: object"
      ]
     },
     "execution_count": 5,
     "metadata": {},
     "output_type": "execute_result"
    }
   ],
   "source": [
    "df.dtypes"
   ]
  },
  {
   "cell_type": "code",
   "execution_count": 4,
   "metadata": {
    "collapsed": true
   },
   "outputs": [],
   "source": [
    "df.loc[3,'Gender']=\"M\""
   ]
  },
  {
   "cell_type": "code",
   "execution_count": 33,
   "metadata": {
    "collapsed": true
   },
   "outputs": [],
   "source": [
    "# Using the numerical columns\n",
    "newdf = df.select_dtypes(exclude=['object'])\n"
   ]
  },
  {
   "cell_type": "code",
   "execution_count": 19,
   "metadata": {},
   "outputs": [
    {
     "data": {
      "text/plain": [
       "Index(['Compensation', 'MaxTerm', 'NoFTE', 'NetPatRev', 'InOperExp',\n",
       "       'OutOperExp', 'OperRev', 'OperInc', 'AvlBeds'],\n",
       "      dtype='object')"
      ]
     },
     "execution_count": 19,
     "metadata": {},
     "output_type": "execute_result"
    }
   ],
   "source": [
    "newdf.columns"
   ]
  },
  {
   "cell_type": "code",
   "execution_count": 7,
   "metadata": {
    "scrolled": false
   },
   "outputs": [
    {
     "data": {
      "text/plain": [
       "Index(['Compensation', 'MaxTerm', 'NoFTE', 'NetPatRev', 'InOperExp',\n",
       "       'OutOperExp', 'OperRev', 'OperInc', 'AvlBeds'],\n",
       "      dtype='object')"
      ]
     },
     "execution_count": 7,
     "metadata": {},
     "output_type": "execute_result"
    }
   ],
   "source": [
    "newdf.columns"
   ]
  },
  {
   "cell_type": "markdown",
   "metadata": {
    "collapsed": true
   },
   "source": [
    "# Conduct Principla Component Analysis"
   ]
  },
  {
   "cell_type": "code",
   "execution_count": 8,
   "metadata": {
    "scrolled": true
   },
   "outputs": [
    {
     "data": {
      "text/plain": [
       "PCA(copy=True, iterated_power='auto', n_components=9, random_state=None,\n",
       "  svd_solver='auto', tol=0.0, whiten=False)"
      ]
     },
     "execution_count": 8,
     "metadata": {},
     "output_type": "execute_result"
    }
   ],
   "source": [
    "pca_solver = sklearnPCA(n_components = 9)\n",
    "pca_solver.fit(newdf)"
   ]
  },
  {
   "cell_type": "code",
   "execution_count": 9,
   "metadata": {},
   "outputs": [
    {
     "name": "stdout",
     "output_type": "stream",
     "text": [
      "[  9.69251603e-01   2.35922651e-02   7.15610064e-03   2.31135244e-08\n",
      "   8.40899239e-09   1.17745216e-12   2.19166049e-14   1.91173052e-18\n",
      "   1.29105002e-22]\n"
     ]
    }
   ],
   "source": [
    " print(pca_solver.explained_variance_ratio_)"
   ]
  },
  {
   "cell_type": "code",
   "execution_count": 10,
   "metadata": {},
   "outputs": [
    {
     "data": {
      "text/plain": [
       "array([[ -5.73732201e-06,  -4.26149230e-11,   3.52002651e-06,\n",
       "          2.08521756e-03,   5.32573065e-01,   2.50828440e-01,\n",
       "          8.07986542e-01,   2.45850364e-02,   3.80948285e-07],\n",
       "       [  2.43938529e-04,   5.38539190e-09,   6.13892958e-06,\n",
       "         -5.80307137e-04,   4.05945055e-01,   1.56299945e-01,\n",
       "         -2.90156252e-01,  -8.52401251e-01,   3.84467429e-07],\n",
       "       [ -3.07115461e-04,  -1.11445637e-08,  -3.01742707e-06,\n",
       "          7.02379205e-04,  -5.49157749e-01,   8.14035851e-01,\n",
       "          1.13856702e-01,  -1.51021400e-01,  -9.33482700e-07],\n",
       "       [  9.95809034e-01,   2.27762571e-05,   3.77820759e-04,\n",
       "          9.14553775e-02,  -3.08269012e-04,   1.20584166e-04,\n",
       "         -6.68725300e-05,   1.20784477e-04,   9.53425773e-05],\n",
       "       [  9.14559207e-02,  -1.34115042e-07,  -5.55615533e-03,\n",
       "         -9.95791011e-01,   4.63086640e-04,   1.01944691e-03,\n",
       "          1.93507999e-03,   4.52828798e-04,   4.72060700e-05],\n",
       "       [  1.30433387e-04,  -2.86145144e-04,   9.99875628e-01,\n",
       "         -5.56623966e-03,  -1.15018793e-06,   8.43653261e-06,\n",
       "          7.85744015e-06,   9.35898901e-06,   1.47528555e-02],\n",
       "       [ -1.01200443e-04,   2.03658963e-04,  -1.47523424e-02,\n",
       "          1.20418138e-04,  -2.55673995e-05,  -2.43000146e-05,\n",
       "          2.44293377e-05,  -2.47138052e-05,   9.99891144e-01],\n",
       "       [  2.26105339e-05,  -9.99996001e-01,  -2.89089155e-04,\n",
       "          3.83332907e-06,  -1.40312753e-03,  -1.40313685e-03,\n",
       "          1.40312193e-03,  -1.40313178e-03,   1.99278001e-04],\n",
       "       [ -5.88177279e-08,   2.80624753e-03,   5.93421185e-06,\n",
       "         -1.83036493e-07,  -4.99998030e-01,  -4.99998031e-01,\n",
       "          4.99998031e-01,  -4.99998030e-01,  -4.99944836e-05]])"
      ]
     },
     "execution_count": 10,
     "metadata": {},
     "output_type": "execute_result"
    }
   ],
   "source": [
    "pca_solver.components_"
   ]
  },
  {
   "cell_type": "code",
   "execution_count": 11,
   "metadata": {},
   "outputs": [
    {
     "name": "stdout",
     "output_type": "stream",
     "text": [
      "62\n"
     ]
    }
   ],
   "source": [
    "print(pca_solver.n_samples_)"
   ]
  },
  {
   "cell_type": "markdown",
   "metadata": {},
   "source": [
    "# Eigenvalues"
   ]
  },
  {
   "cell_type": "markdown",
   "metadata": {
    "collapsed": true
   },
   "source": [
    "# Base on Eigenvalues, there is 7 out of 9 variables should be keep"
   ]
  },
  {
   "cell_type": "code",
   "execution_count": 12,
   "metadata": {
    "collapsed": true
   },
   "outputs": [],
   "source": [
    "eigenvalues = pca_solver.explained_variance_"
   ]
  },
  {
   "cell_type": "code",
   "execution_count": 13,
   "metadata": {
    "scrolled": true
   },
   "outputs": [
    {
     "data": {
      "text/plain": [
       "array([  2.68380283e+17,   6.53256468e+15,   1.98148377e+15,\n",
       "         6.40000411e+09,   2.32840240e+09,   3.26029840e+05,\n",
       "         6.06858387e+03,   5.29347361e-01,   3.57484444e-05])"
      ]
     },
     "execution_count": 13,
     "metadata": {},
     "output_type": "execute_result"
    }
   ],
   "source": [
    "eigenvalues"
   ]
  },
  {
   "cell_type": "markdown",
   "metadata": {
    "collapsed": true
   },
   "source": [
    "# Based on a cree plot. There are seven variables of "
   ]
  },
  {
   "cell_type": "code",
   "execution_count": 14,
   "metadata": {
    "scrolled": false
   },
   "outputs": [
    {
     "data": {
      "image/png": "[encoded data removed]",
      "text/plain": [
       "<matplotlib.figure.Figure at 0x19af10052b0>"
      ]
     },
     "metadata": {},
     "output_type": "display_data"
    }
   ],
   "source": [
    "plt.figure(figsize=(7,5))\n",
    "plt.plot([1,2,3,4,5,6,7,8,9], pca_solver.explained_variance_ratio_, '-o')\n",
    "plt.ylabel('Proportion of Variance Explained') \n",
    "plt.xlabel('Principal Component') \n",
    "#plt.xlim(0.75,4.25) \n",
    "#plt.ylim(0,1.05) \n",
    "plt.xticks([1,2,3,4,5,6,7,8,9])\n",
    "plt.show()\n"
   ]
  },
  {
   "cell_type": "markdown",
   "metadata": {},
   "source": [
    "# Scree plot show that from component #3  where the plot levels off and becomes flat; anything prior to that leveling off is a component that remains. Hence, there are two availables (Compansation and max term) should be retain."
   ]
  },
  {
   "cell_type": "code",
   "execution_count": 21,
   "metadata": {
    "collapsed": true
   },
   "outputs": [],
   "source": [
    "fa = fact(n_components=9)"
   ]
  },
  {
   "cell_type": "code",
   "execution_count": 22,
   "metadata": {},
   "outputs": [
    {
     "data": {
      "text/plain": [
       "FactorAnalysis(copy=True, iterated_power=3, max_iter=1000, n_components=9,\n",
       "        noise_variance_init=None, random_state=0, svd_method='randomized',\n",
       "        tol=0.01)"
      ]
     },
     "execution_count": 22,
     "metadata": {},
     "output_type": "execute_result"
    }
   ],
   "source": [
    "fa.fit(newdf)"
   ]
  },
  {
   "cell_type": "code",
   "execution_count": 23,
   "metadata": {},
   "outputs": [
    {
     "data": {
      "text/plain": [
       "array([  1.12443904e+07,   2.55576406e+03,   2.65969294e+04,\n",
       "         2.85209634e+05,   4.07334161e+07,   4.87218938e+07,\n",
       "         4.43435761e-01,   8.04444838e+06,   8.63586298e+03])"
      ]
     },
     "execution_count": 23,
     "metadata": {},
     "output_type": "execute_result"
    }
   ],
   "source": [
    "import factor_rotation as fr\n",
    "A = fa.components_\n",
    "L, T = fr.rotate_factors(A,'varimax')\n",
    "L.max(0)"
   ]
  },
  {
   "cell_type": "code",
   "execution_count": 24,
   "metadata": {},
   "outputs": [
    {
     "data": {
      "text/plain": [
       "array([[ -1.84880229e+03,   1.12443904e+07,  -4.03268906e+07,\n",
       "          8.05709110e+03,   2.30046086e+04,   1.97681118e+01,\n",
       "         -3.91118043e+01,   4.53969165e+01,   0.00000000e+00],\n",
       "       [  6.29439963e-01,  -2.76517435e+03,  -3.18048682e+03,\n",
       "          2.55576406e+03,  -3.65623535e+03,   3.24167191e+00,\n",
       "         -1.27117351e+02,   4.82967468e+01,   0.00000000e+00],\n",
       "       [  5.01067670e+03,  -2.08832051e+07,  -2.65818174e+06,\n",
       "          2.65969294e+04,  -5.61429945e+02,  -7.03045983e+01,\n",
       "          1.35594771e+02,  -1.49035956e+02,   0.00000000e+00],\n",
       "       [  8.07544742e+03,  -3.12185666e+07,   2.85209634e+05,\n",
       "         -1.69136109e+04,   4.46915771e+04,  -1.14103605e+02,\n",
       "          1.87078190e+02,  -2.24369040e+02,   0.00000000e+00],\n",
       "       [ -1.19195648e+04,   4.07334161e+07,   1.68099312e+07,\n",
       "          9.07248747e+03,   5.50364134e+04,   2.65633093e+01,\n",
       "         -6.08164717e+01,   6.71497667e+01,   0.00000000e+00],\n",
       "       [ -1.43456887e+04,   4.87218938e+07,  -6.16978683e+05,\n",
       "          1.20800659e+04,  -2.58292263e+04,  -1.15844602e+02,\n",
       "          2.16662658e+02,  -2.46742073e+02,   0.00000000e+00],\n",
       "       [ -5.18054324e+08,  -3.49290595e+03,  -1.23944367e+02,\n",
       "         -1.14645603e-01,   4.43435761e-01,   9.96327124e-04,\n",
       "         -2.05694835e-03,   2.21903218e-03,   0.00000000e+00],\n",
       "       [  7.96766512e+03,  -3.09614299e+07,   8.04444838e+06,\n",
       "          3.24488893e+04,  -4.15683737e+03,   1.93240769e+01,\n",
       "         -2.49347854e+01,   3.61501860e+01,   0.00000000e+00],\n",
       "       [  4.51348035e+02,  -1.94343102e+06,  -6.40916987e+05,\n",
       "          8.63586298e+03,  -7.35377142e+03,   4.75398599e+01,\n",
       "         -1.34102683e+02,   1.14018516e+02,   0.00000000e+00]])"
      ]
     },
     "execution_count": 24,
     "metadata": {},
     "output_type": "execute_result"
    }
   ],
   "source": [
    "L.transpose()"
   ]
  },
  {
   "cell_type": "markdown",
   "metadata": {},
   "source": [
    "# I would consolidate Max Term variable and remove all variable."
   ]
  },
  {
   "cell_type": "markdown",
   "metadata": {},
   "source": [
    "# First I find the highest value of each factor. With the highest value of each factor consecutive: {1.12443904e+07,   2.55576406e+03,   2.65969294e+04, 2.85209634e+05,   4.07334161e+07,   4.87218938e+07, 4.43435761e-01,   8.04444838e+06,   8.63586298e+03} "
   ]
  },
  {
   "cell_type": "markdown",
   "metadata": {},
   "source": [
    "# After I transpose matrix to find in each factor which variable has highest value."
   ]
  },
  {
   "cell_type": "markdown",
   "metadata": {},
   "source": [
    "# From array below I found variable (Max term ) in factor 5 and factor 6 has highest value compare than the left."
   ]
  },
  {
   "cell_type": "markdown",
   "metadata": {},
   "source": [
    "# The result of my factor analysis partly agree with my PCA. While FA has only one variable retain, PCA has two."
   ]
  },
  {
   "cell_type": "code",
   "execution_count": 79,
   "metadata": {
    "collapsed": true
   },
   "outputs": [],
   "source": [
    "cluster = newdf[['Compensation', 'MaxTerm', 'NoFTE', 'NetPatRev', 'InOperExp',\n",
    "       'OutOperExp', 'OperRev', 'OperInc', 'AvlBeds']]"
   ]
  },
  {
   "cell_type": "code",
   "execution_count": 68,
   "metadata": {},
   "outputs": [
    {
     "data": {
      "text/plain": [
       "Index(['Compensation', 'MaxTerm', 'NoFTE', 'NetPatRev', 'InOperExp',\n",
       "       'OutOperExp', 'OperRev', 'OperInc', 'AvlBeds'],\n",
       "      dtype='object')"
      ]
     },
     "execution_count": 68,
     "metadata": {},
     "output_type": "execute_result"
    }
   ],
   "source": [
    "clustervar= cluster.copy()\n",
    "clustervar.columns"
   ]
  },
  {
   "cell_type": "code",
   "execution_count": 81,
   "metadata": {
    "collapsed": true
   },
   "outputs": [],
   "source": [
    "clustervar['Compensation'] = preprocessing.scale(clustervar['Compensation'].astype('float64'))\n",
    "clustervar['MaxTerm'] = preprocessing.scale(clustervar['MaxTerm'].astype('float64'))\n",
    "clustervar['NoFTE'] = preprocessing.scale(clustervar['NoFTE'].astype('float64'))\n",
    "clustervar['NetPatRev'] = preprocessing.scale(clustervar['NetPatRev'].astype('float64'))\n",
    "clustervar['InOperExp'] = preprocessing.scale(clustervar['InOperExp'].astype('float64'))\n",
    "clustervar['OutOperExp'] = preprocessing.scale(clustervar['OutOperExp'].astype('float64'))\n",
    "clustervar['OperRev'] = preprocessing.scale(clustervar['OperRev'].astype('float64'))\n",
    "clustervar['OperInc'] = preprocessing.scale(clustervar['OperInc'].astype('float64'))\n",
    "clustervar['AvlBeds'] = preprocessing.scale(clustervar['AvlBeds'].astype('float64'))\n",
    "\n"
   ]
  },
  {
   "cell_type": "code",
   "execution_count": 22,
   "metadata": {
    "scrolled": true
   },
   "outputs": [
    {
     "data": {
      "text/plain": [
       "LastName          object\n",
       "FirstName         object\n",
       "Gender            object\n",
       "PositionTitle     object\n",
       "Compensation       int64\n",
       "MaxTerm            int64\n",
       "StartDate         object\n",
       "Name              object\n",
       "Zip               object\n",
       "Website           object\n",
       "TypeControl       object\n",
       "Teaching          object\n",
       "DonorType         object\n",
       "NoFTE            float64\n",
       "NetPatRev        float64\n",
       "InOperExp        float64\n",
       "OutOperExp       float64\n",
       "OperRev            int64\n",
       "OperInc            int64\n",
       "AvlBeds            int64\n",
       "dtype: object"
      ]
     },
     "execution_count": 22,
     "metadata": {},
     "output_type": "execute_result"
    }
   ],
   "source": [
    "df.dtypes"
   ]
  },
  {
   "cell_type": "code",
   "execution_count": 49,
   "metadata": {},
   "outputs": [
    {
     "data": {
      "text/plain": [
       "array([0, 0, 0, 0, 0, 0, 0, 0, 0, 0, 0, 0, 0, 0, 0, 0, 1, 0, 1, 0, 0, 0, 0,\n",
       "       0, 0, 0, 0, 0, 1, 0, 0, 0, 0, 1, 0, 0, 0, 0, 0, 0, 0, 0, 0, 1, 1, 0,\n",
       "       1, 1, 0, 0, 0, 0, 0, 0, 0, 0, 0, 0, 0, 0, 0, 0])"
      ]
     },
     "execution_count": 49,
     "metadata": {},
     "output_type": "execute_result"
    }
   ],
   "source": [
    "km = cls.KMeans(n_clusters=2).fit(newdf)\n",
    "km.labels_"
   ]
  },
  {
   "cell_type": "code",
   "execution_count": 51,
   "metadata": {},
   "outputs": [
    {
     "data": {
      "text/plain": [
       "array([0, 0, 0, 0, 0, 0, 0, 0, 0, 0, 0, 0, 0, 0, 0, 0, 3, 0, 2, 0, 0, 3, 0,\n",
       "       0, 3, 0, 3, 3, 1, 0, 0, 0, 0, 1, 0, 3, 3, 0, 0, 0, 0, 0, 0, 2, 1, 3,\n",
       "       1, 2, 0, 0, 0, 0, 0, 0, 0, 0, 0, 0, 0, 0, 0, 0])"
      ]
     },
     "execution_count": 51,
     "metadata": {},
     "output_type": "execute_result"
    }
   ],
   "source": [
    "km = cls.KMeans(n_clusters=4).fit(newdf)\n",
    "km.labels_"
   ]
  },
  {
   "cell_type": "code",
   "execution_count": 10,
   "metadata": {
    "scrolled": false
   },
   "outputs": [
    {
     "data": {
      "text/plain": [
       "array([0, 1, 1, 1, 1, 1, 0, 1, 0, 1, 0, 1, 1, 2, 1, 1, 1, 2, 1, 0, 1, 0, 0,\n",
       "       0, 2, 0, 1, 1, 1, 2, 1, 2, 1, 0, 1, 1, 2, 2, 1, 1, 2, 1, 1, 1, 0, 1,\n",
       "       2, 1, 1, 1, 2, 1, 1, 2, 1, 1, 0, 1, 1, 0, 1, 1])"
      ]
     },
     "execution_count": 10,
     "metadata": {},
     "output_type": "execute_result"
    }
   ],
   "source": [
    "km = cls.KMeans(n_clusters=3).fit(df.loc[:,['Compensation', 'MaxTerm',]])\n",
    "km.labels_   "
   ]
  },
  {
   "cell_type": "code",
   "execution_count": 25,
   "metadata": {},
   "outputs": [
    {
     "data": {
      "text/plain": [
       "array(['District', 'Non Profit', 'City/County', 'Investor'], dtype=object)"
      ]
     },
     "execution_count": 25,
     "metadata": {},
     "output_type": "execute_result"
    }
   ],
   "source": [
    "df['Teaching'].unique()\n",
    "df['TypeControl'].unique()"
   ]
  },
  {
   "cell_type": "code",
   "execution_count": 22,
   "metadata": {},
   "outputs": [],
   "source": [
    "df['Teaching'] = df['Teaching'].astype('object') \n",
    "df.Teaching.replace(['Small/Rural', 'Teaching'],[1,2], inplace=True)"
   ]
  },
  {
   "cell_type": "code",
   "execution_count": 50,
   "metadata": {
    "scrolled": false
   },
   "outputs": [
    {
     "name": "stdout",
     "output_type": "stream",
     "text": [
      "[[ 0  0  0]\n",
      " [45  0  0]\n",
      " [ 9  8  0]]\n"
     ]
    }
   ],
   "source": [
    "#Create a confusion matrix\n",
    "cm = metcs.confusion_matrix(df.Teaching, km.labels_)\n",
    "print(cm)       #Printed matrix for Teaching variable"
   ]
  },
  {
   "cell_type": "code",
   "execution_count": 46,
   "metadata": {
    "collapsed": true
   },
   "outputs": [],
   "source": [
    "df.TypeControl.replace(['District', 'Non Profit', 'City/County', 'Investor'],[1,2,3,4], inplace=True)\n",
    "df['TypeControl'] = df['TypeControl'].astype('object') "
   ]
  },
  {
   "cell_type": "code",
   "execution_count": null,
   "metadata": {
    "collapsed": true
   },
   "outputs": [],
   "source": [
    "\n",
    "#Create a confusion matrix\n",
    "cm = metcs.confusion_matrix(df.TypeControl, km.labels_)\n",
    "print(cm)       #Printed matrix for type control"
   ]
  }
 ],
 "metadata": {
  "kernelspec": {
   "display_name": "Python [Root]",
   "language": "python",
   "name": "Python [Root]"
  },
  "language_info": {
   "codemirror_mode": {
    "name": "ipython",
    "version": 3
   },
   "file_extension": ".py",
   "mimetype": "text/x-python",
   "name": "python",
   "nbconvert_exporter": "python",
   "pygments_lexer": "ipython3",
   "version": "3.5.3"
  }
 },
 "nbformat": 4,
 "nbformat_minor": 2
}
