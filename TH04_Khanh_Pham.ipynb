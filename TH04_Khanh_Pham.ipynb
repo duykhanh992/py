{
 "cells": [
  {
   "cell_type": "code",
   "execution_count": 1,
   "metadata": {
    "collapsed": true
   },
   "outputs": [],
   "source": [
    "Workingdirectory = \"C:/Users/Administrator/Documents/Master/MSIS-5223-70250 - Programming for Data Sci - 8282017 - 159 PM/Homework\"\n",
    "setwd(Workingdirectory)\n",
    "data = paste(Workingdirectory,'\\\\CaliforniaHospitalData.csv', sep ='')\n",
    "df = read.csv(data,header =T,sep =',')"
   ]
  },
  {
   "cell_type": "code",
   "execution_count": 2,
   "metadata": {
    "collapsed": true
   },
   "outputs": [],
   "source": [
    "library(tree)\n",
    "library(rpart)\n",
    "library(rpart.plot)\n",
    "library(Metrics)\n",
    "library(psych)\n",
    "library(fmsb)\n"
   ]
  },
  {
   "cell_type": "code",
   "execution_count": 3,
   "metadata": {
    "collapsed": true
   },
   "outputs": [],
   "source": [
    "#Explore Data"
   ]
  },
  {
   "cell_type": "code",
   "execution_count": 4,
   "metadata": {
    "scrolled": true
   },
   "outputs": [
    {
     "data": {
      "text/plain": [
       "   HospitalID                                                    Name   \n",
       " Min.   :10767   Alameda Hospital                                  : 1  \n",
       " 1st Qu.:21053   Arrowhead Regional Medical Center                 : 1  \n",
       " Median :33251   Barstow Community Hospital                        : 1  \n",
       " Mean   :31828   Barton Memorial Hospital                          : 1  \n",
       " 3rd Qu.:39102   Biggs-Gridley Memorial Hospital                   : 1  \n",
       " Max.   :46996   California Pacific Medical Center - Pacific Campus: 1  \n",
       "                 (Other)                                           :55  \n",
       "      Zip                             Website        TypeControl\n",
       " 90033  : 1   www.sbch.org                : 2   City/County: 7  \n",
       " 90048  : 1   coloradorivermedical.org    : 1   District   :14  \n",
       " 90704  : 1   redbluff.mercy.org/index.htm: 1   Investor   : 3  \n",
       " 90806  : 1   stanfordhospital.org        : 1   Non Profit :37  \n",
       " 92028  : 1   www.alamedahospital.org     : 1                   \n",
       " 92103  : 1   www.arrowheadmedcenter.org  : 1                   \n",
       " (Other):55   (Other)                     :54                   \n",
       "        Teaching    DonorType      NoFTE          NetPatRev      \n",
       " Small/Rural:44   Alumni :17   Min.   :  55.0   Min.   :  14172  \n",
       " Teaching   :17   Charity:44   1st Qu.: 215.5   1st Qu.:  65792  \n",
       "                               Median : 374.3   Median : 172399  \n",
       "                               Mean   :1350.3   Mean   : 669584  \n",
       "                               3rd Qu.:1216.0   3rd Qu.: 540975  \n",
       "                               Max.   :8000.0   Max.   :4662582  \n",
       "                                                                 \n",
       "   InOperExp           OutOperExp           OperRev         \n",
       " Min.   :1.436e+06   Min.   :  3787718   Min.   :5.235e+06  \n",
       " 1st Qu.:1.368e+07   1st Qu.: 14261284   1st Qu.:2.416e+07  \n",
       " Median :3.184e+07   Median : 34916220   Median :6.340e+07  \n",
       " Mean   :1.663e+08   Mean   : 90158084   Mean   :2.563e+08  \n",
       " 3rd Qu.:1.737e+08   3rd Qu.: 93066706   3rd Qu.:1.999e+08  \n",
       " Max.   :1.286e+09   Max.   :662155886   Max.   :1.912e+09  \n",
       "                                                            \n",
       "    OperInc              AvlBeds     \n",
       " Min.   :-321163336   Min.   : 12.0  \n",
       " 1st Qu.:  -1108177   1st Qu.: 42.0  \n",
       " Median :   1572695   Median : 99.0  \n",
       " Mean   :   -155349   Mean   :194.5  \n",
       " 3rd Qu.:   6198330   3rd Qu.:234.0  \n",
       " Max.   : 164872413   Max.   :909.0  \n",
       "                                     "
      ]
     },
     "metadata": {},
     "output_type": "display_data"
    },
    {
     "data": {
      "text/html": [
       "<ol class=list-inline>\n",
       "\t<li>'HospitalID'</li>\n",
       "\t<li>'Name'</li>\n",
       "\t<li>'Zip'</li>\n",
       "\t<li>'Website'</li>\n",
       "\t<li>'TypeControl'</li>\n",
       "\t<li>'Teaching'</li>\n",
       "\t<li>'DonorType'</li>\n",
       "\t<li>'NoFTE'</li>\n",
       "\t<li>'NetPatRev'</li>\n",
       "\t<li>'InOperExp'</li>\n",
       "\t<li>'OutOperExp'</li>\n",
       "\t<li>'OperRev'</li>\n",
       "\t<li>'OperInc'</li>\n",
       "\t<li>'AvlBeds'</li>\n",
       "</ol>\n"
      ],
      "text/latex": [
       "\\begin{enumerate*}\n",
       "\\item 'HospitalID'\n",
       "\\item 'Name'\n",
       "\\item 'Zip'\n",
       "\\item 'Website'\n",
       "\\item 'TypeControl'\n",
       "\\item 'Teaching'\n",
       "\\item 'DonorType'\n",
       "\\item 'NoFTE'\n",
       "\\item 'NetPatRev'\n",
       "\\item 'InOperExp'\n",
       "\\item 'OutOperExp'\n",
       "\\item 'OperRev'\n",
       "\\item 'OperInc'\n",
       "\\item 'AvlBeds'\n",
       "\\end{enumerate*}\n"
      ],
      "text/markdown": [
       "1. 'HospitalID'\n",
       "2. 'Name'\n",
       "3. 'Zip'\n",
       "4. 'Website'\n",
       "5. 'TypeControl'\n",
       "6. 'Teaching'\n",
       "7. 'DonorType'\n",
       "8. 'NoFTE'\n",
       "9. 'NetPatRev'\n",
       "10. 'InOperExp'\n",
       "11. 'OutOperExp'\n",
       "12. 'OperRev'\n",
       "13. 'OperInc'\n",
       "14. 'AvlBeds'\n",
       "\n",
       "\n"
      ],
      "text/plain": [
       " [1] \"HospitalID\"  \"Name\"        \"Zip\"         \"Website\"     \"TypeControl\"\n",
       " [6] \"Teaching\"    \"DonorType\"   \"NoFTE\"       \"NetPatRev\"   \"InOperExp\"  \n",
       "[11] \"OutOperExp\"  \"OperRev\"     \"OperInc\"     \"AvlBeds\"    "
      ]
     },
     "metadata": {},
     "output_type": "display_data"
    },
    {
     "data": {
      "text/plain": [
       "   HospitalID                                                    Name   \n",
       " Min.   :10767   Alameda Hospital                                  : 1  \n",
       " 1st Qu.:21053   Arrowhead Regional Medical Center                 : 1  \n",
       " Median :33251   Barstow Community Hospital                        : 1  \n",
       " Mean   :31828   Barton Memorial Hospital                          : 1  \n",
       " 3rd Qu.:39102   Biggs-Gridley Memorial Hospital                   : 1  \n",
       " Max.   :46996   California Pacific Medical Center - Pacific Campus: 1  \n",
       "                 (Other)                                           :55  \n",
       "      Zip                             Website        TypeControl\n",
       " 90033  : 1   www.sbch.org                : 2   City/County: 7  \n",
       " 90048  : 1   coloradorivermedical.org    : 1   District   :14  \n",
       " 90704  : 1   redbluff.mercy.org/index.htm: 1   Investor   : 3  \n",
       " 90806  : 1   stanfordhospital.org        : 1   Non Profit :37  \n",
       " 92028  : 1   www.alamedahospital.org     : 1                   \n",
       " 92103  : 1   www.arrowheadmedcenter.org  : 1                   \n",
       " (Other):55   (Other)                     :54                   \n",
       "        Teaching    DonorType      NoFTE          NetPatRev      \n",
       " Small/Rural:44   Alumni :17   Min.   :  55.0   Min.   :  14172  \n",
       " Teaching   :17   Charity:44   1st Qu.: 215.5   1st Qu.:  65792  \n",
       "                               Median : 374.3   Median : 172399  \n",
       "                               Mean   :1350.3   Mean   : 669584  \n",
       "                               3rd Qu.:1216.0   3rd Qu.: 540975  \n",
       "                               Max.   :8000.0   Max.   :4662582  \n",
       "                                                                 \n",
       "   InOperExp           OutOperExp           OperRev         \n",
       " Min.   :1.436e+06   Min.   :  3787718   Min.   :5.235e+06  \n",
       " 1st Qu.:1.368e+07   1st Qu.: 14261284   1st Qu.:2.416e+07  \n",
       " Median :3.184e+07   Median : 34916220   Median :6.340e+07  \n",
       " Mean   :1.663e+08   Mean   : 90158084   Mean   :2.563e+08  \n",
       " 3rd Qu.:1.737e+08   3rd Qu.: 93066706   3rd Qu.:1.999e+08  \n",
       " Max.   :1.286e+09   Max.   :662155886   Max.   :1.912e+09  \n",
       "                                                            \n",
       "    OperInc              AvlBeds     \n",
       " Min.   :-321163336   Min.   : 12.0  \n",
       " 1st Qu.:  -1108177   1st Qu.: 42.0  \n",
       " Median :   1572695   Median : 99.0  \n",
       " Mean   :   -155349   Mean   :194.5  \n",
       " 3rd Qu.:   6198330   3rd Qu.:234.0  \n",
       " Max.   : 164872413   Max.   :909.0  \n",
       "                                     "
      ]
     },
     "metadata": {},
     "output_type": "display_data"
    }
   ],
   "source": [
    "summary(df)\n",
    "names(df)\n",
    "summary(df)"
   ]
  },
  {
   "cell_type": "code",
   "execution_count": 5,
   "metadata": {
    "collapsed": true
   },
   "outputs": [],
   "source": [
    "#Varaibles relevant"
   ]
  },
  {
   "cell_type": "code",
   "execution_count": 6,
   "metadata": {
    "scrolled": true
   },
   "outputs": [
    {
     "data": {
      "text/html": [
       "<ol class=list-inline>\n",
       "\t<li>61</li>\n",
       "\t<li>10</li>\n",
       "</ol>\n"
      ],
      "text/latex": [
       "\\begin{enumerate*}\n",
       "\\item 61\n",
       "\\item 10\n",
       "\\end{enumerate*}\n"
      ],
      "text/markdown": [
       "1. 61\n",
       "2. 10\n",
       "\n",
       "\n"
      ],
      "text/plain": [
       "[1] 61 10"
      ]
     },
     "metadata": {},
     "output_type": "display_data"
    }
   ],
   "source": [
    "attach(df)\n",
    "dfnew =  data.frame(TypeControl,Teaching,DonorType,NoFTE,NetPatRev,InOperExp,OutOperExp,OperRev,OperInc,AvlBeds)\n",
    "dim(dfnew)\n"
   ]
  },
  {
   "cell_type": "code",
   "execution_count": 7,
   "metadata": {
    "collapsed": true
   },
   "outputs": [],
   "source": [
    "#Create train and test dataset"
   ]
  },
  {
   "cell_type": "code",
   "execution_count": 8,
   "metadata": {
    "collapsed": true
   },
   "outputs": [],
   "source": [
    "s = sample(61,40)\n",
    "df_train = dfnew[s,]\n",
    "df_test = dfnew[-s,]"
   ]
  },
  {
   "cell_type": "code",
   "execution_count": 9,
   "metadata": {
    "collapsed": true
   },
   "outputs": [],
   "source": [
    "#Using operating income as a target variable, create a tree (1 pt.)"
   ]
  },
  {
   "cell_type": "code",
   "execution_count": 10,
   "metadata": {
    "scrolled": true
   },
   "outputs": [
    {
     "data": {
      "image/png": "[encoded data removed]",
      "text/plain": [
       "plot without title"
      ]
     },
     "metadata": {},
     "output_type": "display_data"
    }
   ],
   "source": [
    "df_test_features = df_test[-c(9)]\n",
    "df_test_targets = df_test[c(9)]\n",
    "dtm = rpart(OperInc ~., df_train, method =\"anova\")\n",
    "rpart.plot(dtm, type =4 , extra = 101)\n"
   ]
  },
  {
   "cell_type": "code",
   "execution_count": 11,
   "metadata": {
    "collapsed": true
   },
   "outputs": [],
   "source": [
    "# Operating income-compare predict and actual using compute the rood mean square error"
   ]
  },
  {
   "cell_type": "code",
   "execution_count": 12,
   "metadata": {
    "scrolled": true
   },
   "outputs": [
    {
     "data": {
      "text/html": [
       "38349051.1887548"
      ],
      "text/latex": [
       "38349051.1887548"
      ],
      "text/markdown": [
       "38349051.1887548"
      ],
      "text/plain": [
       "[1] 38349051"
      ]
     },
     "metadata": {},
     "output_type": "display_data"
    }
   ],
   "source": [
    "prediction <- predict(dtm, df_test_features)\n",
    "rmse(df_test_targets, prediction)"
   ]
  },
  {
   "cell_type": "code",
   "execution_count": 13,
   "metadata": {
    "collapsed": true
   },
   "outputs": [],
   "source": [
    "#Using operating revenue as a target variable, create a tree (1 pt.)"
   ]
  },
  {
   "cell_type": "code",
   "execution_count": 14,
   "metadata": {},
   "outputs": [
    {
     "data": {
      "image/png": "[encoded data removed]",
      "text/plain": [
       "plot without title"
      ]
     },
     "metadata": {},
     "output_type": "display_data"
    }
   ],
   "source": [
    "df_test_features = df_test[-c(8)]\n",
    "df_test_targets = df_test[c(8)]\n",
    "dtm = rpart( OperRev~., df_train, method =\"anova\")\n",
    "rpart.plot(dtm, type =4 , extra = 101)\n"
   ]
  },
  {
   "cell_type": "code",
   "execution_count": 15,
   "metadata": {
    "collapsed": true
   },
   "outputs": [],
   "source": [
    "#operating revenue-resuts in predicted values close to the observed data values"
   ]
  },
  {
   "cell_type": "code",
   "execution_count": 16,
   "metadata": {},
   "outputs": [
    {
     "data": {
      "text/html": [
       "144990740.090057"
      ],
      "text/latex": [
       "144990740.090057"
      ],
      "text/markdown": [
       "144990740.090057"
      ],
      "text/plain": [
       "[1] 144990740"
      ]
     },
     "metadata": {},
     "output_type": "display_data"
    }
   ],
   "source": [
    "prediction <- predict(dtm, df_test_features)\n",
    "rmse(df_test_targets, prediction)"
   ]
  },
  {
   "cell_type": "code",
   "execution_count": 17,
   "metadata": {
    "collapsed": true,
    "scrolled": true
   },
   "outputs": [],
   "source": [
    "#Using TypeControl as a target variable, create a tree (1 pt.) "
   ]
  },
  {
   "cell_type": "code",
   "execution_count": 18,
   "metadata": {},
   "outputs": [
    {
     "data": {
      "image/png": "[encoded data removed]",
      "text/plain": [
       "plot without title"
      ]
     },
     "metadata": {},
     "output_type": "display_data"
    }
   ],
   "source": [
    "df_test_features = df_test[-c(1)]\n",
    "df_test_targets = df_test[c(1)]\n",
    "dtm = rpart( TypeControl~., df_train, method =\"class\")\n",
    "rpart.plot(dtm, type =4 , extra = 101)\n"
   ]
  },
  {
   "cell_type": "code",
   "execution_count": 19,
   "metadata": {},
   "outputs": [
    {
     "data": {
      "text/plain": [
       "Call: cohen.kappa1(x = x, w = w, n.obs = n.obs, alpha = alpha, levels = levels)\n",
       "\n",
       "Cohen Kappa and Weighted Kappa correlation coefficients and confidence boundaries \n",
       "                  lower estimate upper\n",
       "unweighted kappa  0.000        0 0.000\n",
       "weighted kappa   -0.086        0 0.086\n",
       "\n",
       " Number of subjects = 21 "
      ]
     },
     "metadata": {},
     "output_type": "display_data"
    }
   ],
   "source": [
    "cohen.kappa(cbind(eval(parse(text=toString(df_test_targets))), as.numeric(prediction)))"
   ]
  },
  {
   "cell_type": "code",
   "execution_count": 20,
   "metadata": {
    "collapsed": true
   },
   "outputs": [],
   "source": [
    "#Using DonorType as a target variable, create a tree (1 pt.) "
   ]
  },
  {
   "cell_type": "code",
   "execution_count": 21,
   "metadata": {
    "scrolled": true
   },
   "outputs": [
    {
     "data": {
      "image/png": "[encoded data removed]",
      "text/plain": [
       "plot without title"
      ]
     },
     "metadata": {},
     "output_type": "display_data"
    }
   ],
   "source": [
    "df_test_features = df_test[-c(3)]\n",
    "df_test_targets = df_test[c(3)]\n",
    "dtm = rpart(DonorType~., df_train, method = \"class\")\n",
    "rpart.plot(dtm, type =4 , extra = 101)\n"
   ]
  },
  {
   "cell_type": "code",
   "execution_count": 22,
   "metadata": {},
   "outputs": [
    {
     "data": {
      "text/plain": [
       "Call: cohen.kappa1(x = x, w = w, n.obs = n.obs, alpha = alpha, levels = levels)\n",
       "\n",
       "Cohen Kappa and Weighted Kappa correlation coefficients and confidence boundaries \n",
       "                 lower estimate  upper\n",
       "unweighted kappa  0.00     0.00  0.000\n",
       "weighted kappa   -0.17    -0.12 -0.074\n",
       "\n",
       " Number of subjects = 21 "
      ]
     },
     "metadata": {},
     "output_type": "display_data"
    }
   ],
   "source": [
    "cohen.kappa(cbind(eval(parse(text=toString(df_test_targets))), as.numeric(prediction)))"
   ]
  }
 ],
 "metadata": {
  "kernelspec": {
   "display_name": "R",
   "language": "R",
   "name": "ir"
  },
  "language_info": {
   "codemirror_mode": "r",
   "file_extension": ".r",
   "mimetype": "text/x-r-source",
   "name": "R",
   "pygments_lexer": "r",
   "version": "3.4.1"
  }
 },
 "nbformat": 4,
 "nbformat_minor": 2
}
