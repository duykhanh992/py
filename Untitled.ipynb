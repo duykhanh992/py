{
 "cells": [
  {
   "cell_type": "code",
   "execution_count": 4,
   "metadata": {},
   "outputs": [
    {
     "name": "stdout",
     "output_type": "stream",
     "text": [
      "Enter file:\n"
     ]
    }
   ],
   "source": [
    "name = input(\"Enter file:\")\n",
    "if len(name) < 1: \n",
    "    name = \"mbox-short.txt\"\n",
    "handle = open(name)"
   ]
  },
  {
   "cell_type": "code",
   "execution_count": 5,
   "metadata": {
    "scrolled": true
   },
   "outputs": [
    {
     "name": "stdout",
     "output_type": "stream",
     "text": [
      "['09', '14', '16']\n",
      "['18', '10', '48']\n",
      "['16', '10', '39']\n",
      "['15', '46', '24']\n",
      "['15', '03', '18']\n",
      "['14', '50', '18']\n",
      "['11', '37', '30']\n",
      "['11', '35', '08']\n",
      "['11', '12', '37']\n",
      "['11', '11', '52']\n",
      "['11', '11', '03']\n",
      "['11', '10', '22']\n",
      "['10', '38', '42']\n",
      "['10', '17', '43']\n",
      "['10', '04', '14']\n",
      "['09', '05', '31']\n",
      "['07', '02', '32']\n",
      "['06', '08', '27']\n",
      "['04', '49', '08']\n",
      "['04', '33', '44']\n",
      "['04', '07', '34']\n",
      "['19', '51', '21']\n",
      "['17', '18', '23']\n",
      "['17', '07', '00']\n",
      "['16', '34', '40']\n",
      "['16', '29', '07']\n",
      "['16', '23', '48']\n"
     ]
    }
   ],
   "source": [
    "counts = dict()\n",
    "for line in handle:\n",
    "    if line.startswith(\"From \"):\n",
    "        time = line.split()[5].split(\":\")\n",
    "        print(time)"
   ]
  },
  {
   "cell_type": "code",
   "execution_count": 8,
   "metadata": {
    "scrolled": true
   },
   "outputs": [
    {
     "name": "stdout",
     "output_type": "stream",
     "text": [
      "<class 'list'>\n"
     ]
    }
   ],
   "source": [
    "print(type(time))\n",
    "counts [time[0]] = counts.get(time[0], 0) + 1"
   ]
  },
  {
   "cell_type": "code",
   "execution_count": 10,
   "metadata": {
    "scrolled": true
   },
   "outputs": [
    {
     "name": "stdout",
     "output_type": "stream",
     "text": [
      "3 4\n"
     ]
    }
   ],
   "source": [
    "x , y = 3, 4\n",
    "print(x, y)"
   ]
  },
  {
   "cell_type": "code",
   "execution_count": 11,
   "metadata": {
    "scrolled": true
   },
   "outputs": [
    {
     "name": "stdout",
     "output_type": "stream",
     "text": [
      "dict_items([('chuck', 1), ('fred', 42), ('jan', 100)])\n"
     ]
    }
   ],
   "source": [
    "x = { 'chuck' : 1 , 'fred' : 42, 'jan': 100}\n",
    "y = x.items()\n",
    "print(y)"
   ]
  },
  {
   "cell_type": "code",
   "execution_count": 16,
   "metadata": {},
   "outputs": [
    {
     "name": "stdout",
     "output_type": "stream",
     "text": [
      "('Mon', 'Tue', 'Wed', 'Thu', 'Fri', 'Sat', 'Sun')\n"
     ]
    }
   ],
   "source": [
    "days = ('Mon', 'Tue', 'Wed', 'Thu', 'Fri', 'Sat', 'Sun')\n",
    "print(days)"
   ]
  }
 ],
 "metadata": {
  "kernelspec": {
   "display_name": "Python 3",
   "language": "python",
   "name": "python3"
  },
  "language_info": {
   "codemirror_mode": {
    "name": "ipython",
    "version": 3
   },
   "file_extension": ".py",
   "mimetype": "text/x-python",
   "name": "python",
   "nbconvert_exporter": "python",
   "pygments_lexer": "ipython3",
   "version": "3.7.0"
  }
 },
 "nbformat": 4,
 "nbformat_minor": 2
}
