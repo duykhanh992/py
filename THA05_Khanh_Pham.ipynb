{
 "cells": [
  {
   "cell_type": "code",
   "execution_count": null,
   "metadata": {
    "collapsed": true
   },
   "outputs": [],
   "source": [
    "library(psych)\n",
    "library(ggplot2)\n",
    "library(car)\n",
    "library(fmsb)\n",
    "library(dplyr)"
   ]
  },
  {
   "cell_type": "code",
   "execution_count": null,
   "metadata": {
    "collapsed": true
   },
   "outputs": [],
   "source": [
    "library(Hmisc)\t#Only load this after using psych; it overrides psych"
   ]
  },
  {
   "cell_type": "code",
   "execution_count": 1,
   "metadata": {
    "collapsed": true,
    "scrolled": true
   },
   "outputs": [],
   "source": [
    "# Read data\n",
    "path = \"C:/Users/Administrator/Documents/Master/MSIS-5223-70250 - Programming for Data Sci - 8282017 - 159 PM/Homework\"\n",
    "data = paste( path,'\\\\CaliforniaHospitalData.csv', sep ='')\n",
    "df = read.csv(data,header =T,sep =',')"
   ]
  },
  {
   "cell_type": "code",
   "execution_count": null,
   "metadata": {
    "collapsed": true
   },
   "outputs": [],
   "source": [
    "library(Hmisc) #Only load this after using psych; it overrides psych"
   ]
  },
  {
   "cell_type": "code",
   "execution_count": 2,
   "metadata": {
    "scrolled": false
   },
   "outputs": [
    {
     "name": "stdout",
     "output_type": "stream",
     "text": [
      "'data.frame':\t61 obs. of  14 variables:\n",
      " $ HospitalID : int  45740 12145 25667 46996 37393 17741 20277 45736 29823 13738 ...\n",
      " $ Name       : Factor w/ 61 levels \"Alameda Hospital\",..: 26 61 36 38 3 47 60 32 11 49 ...\n",
      " $ Zip        : Factor w/ 61 levels \"90033\",\"90048\",..: 28 16 9 29 12 56 44 14 51 11 ...\n",
      " $ Website    : Factor w/ 60 levels \"coloradorivermedical.org\",..: 28 60 39 41 6 2 59 31 11 50 ...\n",
      " $ TypeControl: Factor w/ 4 levels \"City/County\",..: 2 4 2 4 3 4 4 2 4 4 ...\n",
      " $ Teaching   : Factor w/ 2 levels \"Small/Rural\",..: 1 1 1 1 1 1 1 1 1 1 ...\n",
      " $ DonorType  : Factor w/ 2 levels \"Alumni\",\"Charity\": 2 2 2 2 2 2 2 2 2 2 ...\n",
      " $ NoFTE      : num  327 345 601 400 262 ...\n",
      " $ NetPatRev  : num  135520 136157 197094 139170 116798 ...\n",
      " $ InOperExp  : num  20523426 33447543 37254179 23385570 13684502 ...\n",
      " $ OutOperExp : num  34916220 20348596 37832448 24661356 15159987 ...\n",
      " $ OperRev    : int  49933713 53351748 72933707 51087341 42845642 85808509 79005075 11947133 19445901 199873795 ...\n",
      " $ OperInc    : int  -5505933 -444391 -2152920 3040415 14001153 12386360 2724001 -4514239 21025 7943967 ...\n",
      " $ AvlBeds    : int  15 99 107 55 42 66 65 35 48 186 ...\n"
     ]
    }
   ],
   "source": [
    "str(df)"
   ]
  },
  {
   "cell_type": "code",
   "execution_count": null,
   "metadata": {
    "collapsed": true
   },
   "outputs": [],
   "source": [
    "# for multiple regression model I am using only numerical variable"
   ]
  },
  {
   "cell_type": "code",
   "execution_count": null,
   "metadata": {
    "collapsed": true
   },
   "outputs": [],
   "source": [
    "Filter(is.numeric, df)"
   ]
  },
  {
   "cell_type": "code",
   "execution_count": null,
   "metadata": {
    "collapsed": true,
    "scrolled": true
   },
   "outputs": [],
   "source": [
    "#Covert to numeric data for number\n",
    "df_lg <- sapply(df, as.numeric)\n",
    "df_lg"
   ]
  },
  {
   "cell_type": "code",
   "execution_count": null,
   "metadata": {
    "collapsed": true,
    "scrolled": true
   },
   "outputs": [],
   "source": [
    "#Chose numeric data\n",
    "dfnew <- df[-c(1,2,3,4,5,6,7)]"
   ]
  },
  {
   "cell_type": "code",
   "execution_count": null,
   "metadata": {
    "collapsed": true
   },
   "outputs": [],
   "source": [
    "attach(dfnew)"
   ]
  },
  {
   "cell_type": "code",
   "execution_count": null,
   "metadata": {
    "collapsed": true
   },
   "outputs": [],
   "source": [
    "pairs(dfnew, panel=panel.smooth) "
   ]
  },
  {
   "cell_type": "code",
   "execution_count": null,
   "metadata": {
    "collapsed": true
   },
   "outputs": [],
   "source": [
    "#See how quickly a scatter plot helps see the relationships between the variables. \n",
    "#Operating Revenue increase with increase in number of NoFTE, NetPatRev, InOperExp, OutOper \n",
    "#increases with acceleration (the variable acceleration represents time taken to acceleration from range $1906944100"
   ]
  },
  {
   "cell_type": "code",
   "execution_count": null,
   "metadata": {
    "collapsed": true,
    "scrolled": true
   },
   "outputs": [],
   "source": [
    "ozone_corr = cor(dfnew)\n",
    "ozone_corr"
   ]
  },
  {
   "cell_type": "code",
   "execution_count": null,
   "metadata": {
    "collapsed": true,
    "scrolled": true
   },
   "outputs": [],
   "source": [
    "describe(OperRev)"
   ]
  },
  {
   "cell_type": "code",
   "execution_count": null,
   "metadata": {
    "collapsed": true,
    "scrolled": false
   },
   "outputs": [],
   "source": [
    "dfnew.fit <- lm(OperRev~.,data = dfnew)\n",
    "summary(dfnew.fit)"
   ]
  },
  {
   "cell_type": "code",
   "execution_count": null,
   "metadata": {
    "collapsed": true
   },
   "outputs": [],
   "source": [
    "dfnew2 = step(dfnew)\n",
    "summary(dfnew2)"
   ]
  },
  {
   "cell_type": "code",
   "execution_count": null,
   "metadata": {
    "collapsed": true
   },
   "outputs": [],
   "source": [
    "#P-values for coefficients of cylinders, horsepower and acceleratio NoFTE, NetPatRev, InOperExp, OutOper  are all less than 0.05. \n",
    "#This means that the relationship between the dependent and these independent variables is significant at the 95% certainty level\n",
    "#I will inclide all variable in dfnew dataset.\n",
    "# Model is not really good."
   ]
  },
  {
   "cell_type": "code",
   "execution_count": null,
   "metadata": {
    "collapsed": true,
    "scrolled": true
   },
   "outputs": [],
   "source": [
    "#### What about significance of the correlations? \n",
    "#### This shows the correlation values (rounded) and their associated p-values\n",
    "rcorr(as.matrix(dfnew))"
   ]
  },
  {
   "cell_type": "code",
   "execution_count": null,
   "metadata": {
    "collapsed": true,
    "scrolled": true
   },
   "outputs": [],
   "source": [
    "dfnew.fit <- lm(OperRev~ InOperExp+ OutOperExp +OperInc ,data = dfnew)\n",
    "summary(dfnew.fit)"
   ]
  },
  {
   "cell_type": "code",
   "execution_count": null,
   "metadata": {
    "collapsed": true,
    "scrolled": true
   },
   "outputs": [],
   "source": [
    "#Test Independence Assumption\n",
    "durbinWatsonTest(dfnew)"
   ]
  },
  {
   "cell_type": "code",
   "execution_count": null,
   "metadata": {
    "collapsed": true,
    "scrolled": false
   },
   "outputs": [],
   "source": [
    "plot(dfnew.fit)"
   ]
  },
  {
   "cell_type": "code",
   "execution_count": null,
   "metadata": {
    "collapsed": true
   },
   "outputs": [],
   "source": [
    "dfnew1.fit = lm(log(OperRev)~.,data = dfnew)"
   ]
  },
  {
   "cell_type": "code",
   "execution_count": null,
   "metadata": {
    "collapsed": true,
    "scrolled": false
   },
   "outputs": [],
   "source": [
    "plot(dfnew1.fit)"
   ]
  },
  {
   "cell_type": "code",
   "execution_count": null,
   "metadata": {
    "collapsed": true
   },
   "outputs": [],
   "source": [
    "#Logistic Regression "
   ]
  },
  {
   "cell_type": "code",
   "execution_count": null,
   "metadata": {
    "collapsed": true,
    "scrolled": true
   },
   "outputs": [],
   "source": [
    "df_lg <- df"
   ]
  },
  {
   "cell_type": "code",
   "execution_count": null,
   "metadata": {
    "collapsed": true
   },
   "outputs": [],
   "source": [
    "names(df_lg)"
   ]
  },
  {
   "cell_type": "code",
   "execution_count": null,
   "metadata": {
    "collapsed": true
   },
   "outputs": [],
   "source": [
    "df_lg <- sapply(df, as.numeric)\n",
    "df_lg"
   ]
  },
  {
   "cell_type": "code",
   "execution_count": null,
   "metadata": {
    "collapsed": true
   },
   "outputs": [],
   "source": [
    "\n",
    "ozone_corr = cor(df_lg)\n",
    "ozone_corr"
   ]
  },
  {
   "cell_type": "code",
   "execution_count": null,
   "metadata": {
    "collapsed": true,
    "scrolled": false
   },
   "outputs": [],
   "source": [
    "#### Perform logistic regression\n",
    "#### a predictor of Teaching\n",
    "df_lg.fit = glm(Teaching~DonorType+NoFTE+NetPatRev+InOperExp+OutOperExp+OperRev+AvlBeds, binomial, data=df_lg)\n",
    "summary(df_lg.fit)"
   ]
  },
  {
   "cell_type": "code",
   "execution_count": null,
   "metadata": {
    "collapsed": true
   },
   "outputs": [],
   "source": [
    "anova(df_lg.fit, test=\"Chisq\")"
   ]
  }
 ],
 "metadata": {
  "kernelspec": {
   "display_name": "R",
   "language": "R",
   "name": "ir"
  },
  "language_info": {
   "codemirror_mode": "r",
   "file_extension": ".r",
   "mimetype": "text/x-r-source",
   "name": "R",
   "pygments_lexer": "r",
   "version": "3.4.1"
  }
 },
 "nbformat": 4,
 "nbformat_minor": 2
}
