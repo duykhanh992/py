{
 "cells": [
  {
   "cell_type": "code",
   "execution_count": null,
   "metadata": {
    "collapsed": true
   },
   "outputs": [],
   "source": [
    "Workingdirectory = \"C:/Users/Administrator/Documents/Master/MSIS-5223-70250 - Programming for Data Sci - 8282017 - 159 PM/Data for Tutorials and ICE/Data\"\n",
    "setwd(Workingdirectory)\n",
    "data = paste(Workingdirectory,\"\\\\ect_data.txt\", sep ='')\n",
    "df = read.table(data,header =T,sep ='\\t')"
   ]
  },
  {
   "cell_type": "code",
   "execution_count": null,
   "metadata": {
    "scrolled": false
   },
   "outputs": [],
   "source": [
    "df"
   ]
  },
  {
   "cell_type": "code",
   "execution_count": null,
   "metadata": {},
   "outputs": [],
   "source": [
    "names(df)\n",
    "ncol(df)"
   ]
  },
  {
   "cell_type": "code",
   "execution_count": null,
   "metadata": {
    "collapsed": true
   },
   "outputs": [],
   "source": [
    "reduction_data.pca = df[c('attitude1_01', 'attitude1_02', 'attitude1_03' ,'attitude1_04' ,'intent1_01', 'intent1_02' ,'intent1_03' ,'intent1_04' ,'peruse01' ,'peruse02' ,'peruse03' ,'peruse04' ,'satis01', 'satis02', 'satis03', 'satis04')]"
   ]
  },
  {
   "cell_type": "code",
   "execution_count": null,
   "metadata": {
    "collapsed": true
   },
   "outputs": [],
   "source": [
    "pcamodel_reduc = princomp(reduction_data.pca, cor=FALSE)"
   ]
  },
  {
   "cell_type": "code",
   "execution_count": null,
   "metadata": {
    "collapsed": true
   },
   "outputs": [],
   "source": [
    "#There are four components have a value greater than 1.0. Truly I am dealing with 4 columns of data out of total of 16"
   ]
  },
  {
   "cell_type": "code",
   "execution_count": null,
   "metadata": {},
   "outputs": [],
   "source": [
    "pcamodel_reduc$sdev^2"
   ]
  },
  {
   "cell_type": "code",
   "execution_count": null,
   "metadata": {
    "collapsed": true
   },
   "outputs": [],
   "source": [
    "pcamodel_reduc1 = princomp(reduction_data.pca, cor=FALSE)"
   ]
  },
  {
   "cell_type": "code",
   "execution_count": null,
   "metadata": {},
   "outputs": [],
   "source": [
    "plot(pcamodel_reduc1)"
   ]
  },
  {
   "cell_type": "code",
   "execution_count": null,
   "metadata": {},
   "outputs": [],
   "source": [
    "biplot(pcamodel_reduc1)"
   ]
  },
  {
   "cell_type": "code",
   "execution_count": null,
   "metadata": {},
   "outputs": [],
   "source": [
    "reduction_data.FA = factanal(~attitude1_01+attitude1_02+attitude1_03+attitude1_04+intent1_01+intent1_02+intent1_03+intent1_04+peruse01+peruse02+peruse03+peruse04+satis01+satis02+satis03+satis04,factors=4,rotation=\"varimax\", \n",
    "  scores=\"none\",data=df)\n",
    "reduction_data.FA"
   ]
  },
  {
   "cell_type": "code",
   "execution_count": null,
   "metadata": {
    "collapsed": true
   },
   "outputs": [],
   "source": [
    "#yes: peruse01 and satis03\n",
    "#factor 1: retains satis01, satis02,satis04, satis03\n",
    "#factor2:retains peruse01:peruse04\n",
    "#factor3:intent1_01:intent1_04\n",
    "#factor4: attitude1_01:attitude1_04\n",
    "#because they have high percentage presentative for each factor"
   ]
  },
  {
   "cell_type": "code",
   "execution_count": null,
   "metadata": {
    "collapsed": true
   },
   "outputs": [],
   "source": [
    "Workingdirectory1 = \"C:/Users/Administrator/Documents/Master/MSIS-5223-70250 - Programming for Data Sci - 8282017 - 159 PM/Data for Tutorials and ICE/Data\"\n",
    "setwd(temptable)\n",
    "template = paste(Workingdirectory1,\"\\\\car.test.frame.txt\", sep ='')\n",
    "taxon_data = read.table(template,header =T,sep ='\\t')"
   ]
  },
  {
   "cell_type": "code",
   "execution_count": null,
   "metadata": {
    "scrolled": true
   },
   "outputs": [],
   "source": [
    "df2 <- na.omit(taxon_data)\n",
    "df2"
   ]
  },
  {
   "cell_type": "code",
   "execution_count": null,
   "metadata": {
    "scrolled": true
   },
   "outputs": [],
   "source": [
    "library(tree)"
   ]
  },
  {
   "cell_type": "code",
   "execution_count": null,
   "metadata": {},
   "outputs": [],
   "source": [
    "attach(df2)"
   ]
  },
  {
   "cell_type": "code",
   "execution_count": null,
   "metadata": {},
   "outputs": [],
   "source": [
    "unique(Type)"
   ]
  },
  {
   "cell_type": "code",
   "execution_count": null,
   "metadata": {
    "scrolled": true
   },
   "outputs": [],
   "source": [
    "plot(Price,Mileage, pch =18, col =Type)"
   ]
  },
  {
   "cell_type": "code",
   "execution_count": null,
   "metadata": {
    "scrolled": false
   },
   "outputs": [],
   "source": [
    "#### Now, let us use the K-Means algorithm to plot the data.\n",
    "#### Restrict the data to 6 distinct groups\n",
    "km = kmeans(data.frame(Price, Mileage), 6)\n",
    "plot(Price, Mileage, col=km[[1]], main=\"6 KM Groups\")"
   ]
  },
  {
   "cell_type": "code",
   "execution_count": null,
   "metadata": {
    "scrolled": false
   },
   "outputs": [],
   "source": [
    "#### Now, let us use the K-Means algorithm to plot the data.\n",
    "#### Restrict the data to 6 distinct groups\n",
    "km = kmeans(data.frame(Price, Mileage), 4)\n",
    "plot(Price, Mileage, col=km[[1]], main=\"4 KM Groups\")"
   ]
  },
  {
   "cell_type": "code",
   "execution_count": null,
   "metadata": {
    "collapsed": true
   },
   "outputs": [],
   "source": [
    "#### Allow the R Graphics window to display 4 graphics\n",
    "#### with 2 on top and 2 on the bottom:\n",
    "par(mfrow=c(2,2))"
   ]
  },
  {
   "cell_type": "code",
   "execution_count": null,
   "metadata": {},
   "outputs": [],
   "source": [
    "table(km[[1]], Type)"
   ]
  },
  {
   "cell_type": "code",
   "execution_count": null,
   "metadata": {
    "collapsed": true
   },
   "outputs": [],
   "source": [
    "library(psych)"
   ]
  },
  {
   "cell_type": "code",
   "execution_count": null,
   "metadata": {
    "scrolled": true
   },
   "outputs": [],
   "source": [
    "describe(df2)"
   ]
  },
  {
   "cell_type": "code",
   "execution_count": null,
   "metadata": {
    "scrolled": true
   },
   "outputs": [],
   "source": [
    "km1 = kmeans(df2, 4)"
   ]
  },
  {
   "cell_type": "code",
   "execution_count": null,
   "metadata": {
    "scrolled": true
   },
   "outputs": [],
   "source": [
    "km_tax"
   ]
  }
 ],
 "metadata": {
  "kernelspec": {
   "display_name": "R",
   "language": "R",
   "name": "ir"
  },
  "language_info": {
   "codemirror_mode": "r",
   "file_extension": ".r",
   "mimetype": "text/x-r-source",
   "name": "R",
   "pygments_lexer": "r",
   "version": "3.4.1"
  }
 },
 "nbformat": 4,
 "nbformat_minor": 2
}
