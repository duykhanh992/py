{
 "cells": [
  {
   "cell_type": "code",
   "execution_count": null,
   "metadata": {
    "collapsed": true
   },
   "outputs": [],
   "source": [
    "#Change Hour\n",
    "hours = input(\"Enter Hours:\")\n",
    "h = float(hours)\n",
    "if h > 40:\n",
    "    rate = input(\"Enter Hours:\")\n",
    "    r    = float(rate)\n",
    "    r1 = r * 1.5\n",
    "    h1 = h - 40\n",
    "    pay = r1 * h1 + r * 40\n",
    "    print(pay)"
   ]
  },
  {
   "cell_type": "code",
   "execution_count": 1,
   "metadata": {
    "collapsed": true
   },
   "outputs": [],
   "source": [
    "import numpy as np\n",
    "import pandas as pd\n",
    "import os"
   ]
  },
  {
   "cell_type": "code",
   "execution_count": 8,
   "metadata": {
    "collapsed": true
   },
   "outputs": [],
   "source": [
    "import matplotlib.pyplot as plt"
   ]
  },
  {
   "cell_type": "code",
   "execution_count": 2,
   "metadata": {
    "collapsed": true
   },
   "outputs": [],
   "source": [
    "cwd = os.getcwd()"
   ]
  },
  {
   "cell_type": "code",
   "execution_count": 3,
   "metadata": {},
   "outputs": [
    {
     "data": {
      "text/plain": [
       "'C:\\\\Users\\\\Administrator\\\\Documents\\\\Python'"
      ]
     },
     "execution_count": 3,
     "metadata": {},
     "output_type": "execute_result"
    }
   ],
   "source": [
    "cwd"
   ]
  },
  {
   "cell_type": "code",
   "execution_count": 4,
   "metadata": {
    "scrolled": true
   },
   "outputs": [
    {
     "data": {
      "text/plain": [
       "['.idea',\n",
       " '.ipynb_checkpoints',\n",
       " 'Biglist 9.10.2018.xlsx',\n",
       " 'code',\n",
       " 'code.zip',\n",
       " 'Project',\n",
       " 'Py4Inf-11-Regex-Guide.doc',\n",
       " 'Untitled.ipynb',\n",
       " 'untitled.txt',\n",
       " 'untitled0.py',\n",
       " 'Untitled1.ipynb']"
      ]
     },
     "execution_count": 4,
     "metadata": {},
     "output_type": "execute_result"
    }
   ],
   "source": [
    "os.listdir()"
   ]
  },
  {
   "cell_type": "code",
   "execution_count": 7,
   "metadata": {
    "scrolled": true
   },
   "outputs": [
    {
     "name": "stdout",
     "output_type": "stream",
     "text": [
      "['Master', 'Sheet5', 'IN-PA', 'F3', 'Sheet7', 'DVM', 'coc']\n"
     ]
    }
   ],
   "source": [
    "# Import `load_workbook` module from `openpyxl`\n",
    "from openpyxl import load_workbook\n",
    "\n",
    "# Load in the workbook\n",
    "wb = load_workbook('./Biglist 9.10.2018.xlsx')\n",
    "\n",
    "# Get sheet names\n",
    "print(wb.get_sheet_names())"
   ]
  },
  {
   "cell_type": "code",
   "execution_count": null,
   "metadata": {
    "collapsed": true
   },
   "outputs": [],
   "source": [
    "wb"
   ]
  }
 ],
 "metadata": {
  "kernelspec": {
   "display_name": "Python [conda root]",
   "language": "python",
   "name": "conda-root-py"
  },
  "language_info": {
   "codemirror_mode": {
    "name": "ipython",
    "version": 3
   },
   "file_extension": ".py",
   "mimetype": "text/x-python",
   "name": "python",
   "nbconvert_exporter": "python",
   "pygments_lexer": "ipython3",
   "version": "3.5.5"
  }
 },
 "nbformat": 4,
 "nbformat_minor": 2
}
