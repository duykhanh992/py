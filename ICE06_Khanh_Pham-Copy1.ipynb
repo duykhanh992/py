{
 "cells": [
  {
   "cell_type": "code",
   "execution_count": 1,
   "metadata": {},
   "outputs": [
    {
     "name": "stderr",
     "output_type": "stream",
     "text": [
      "\n",
      "Attaching package: 'car'\n",
      "\n",
      "The following object is masked from 'package:psych':\n",
      "\n",
      "    logit\n",
      "\n",
      "dummies-1.5.6 provided by Decision Patterns\n",
      "\n"
     ]
    }
   ],
   "source": [
    "library(psych)\n",
    "library(car)\n",
    "library(dummies)"
   ]
  },
  {
   "cell_type": "code",
   "execution_count": 2,
   "metadata": {
    "collapsed": true
   },
   "outputs": [],
   "source": [
    "Workingdirection = \"C:/Users/Administrator/Documents/Master/MSIS-5223-70250 - Programming for Data Sci - 8282017 - 159 PM/Homework\";\n",
    "Path = paste(Workingdirection,\"//splityield.txt\",sep =\"\");\n",
    "df = read.table (Path,header=T, sep='\\t')"
   ]
  },
  {
   "cell_type": "code",
   "execution_count": 28,
   "metadata": {
    "collapsed": true
   },
   "outputs": [],
   "source": [
    "dfnew = df"
   ]
  },
  {
   "cell_type": "code",
   "execution_count": 4,
   "metadata": {},
   "outputs": [],
   "source": [
    "attach(dfnew)"
   ]
  },
  {
   "cell_type": "code",
   "execution_count": 5,
   "metadata": {},
   "outputs": [
    {
     "data": {
      "text/html": [
       "<ol class=list-inline>\n",
       "\t<li>'yield'</li>\n",
       "\t<li>'block'</li>\n",
       "\t<li>'irrigation'</li>\n",
       "\t<li>'density'</li>\n",
       "\t<li>'fertilizer'</li>\n",
       "</ol>\n"
      ],
      "text/latex": [
       "\\begin{enumerate*}\n",
       "\\item 'yield'\n",
       "\\item 'block'\n",
       "\\item 'irrigation'\n",
       "\\item 'density'\n",
       "\\item 'fertilizer'\n",
       "\\end{enumerate*}\n"
      ],
      "text/markdown": [
       "1. 'yield'\n",
       "2. 'block'\n",
       "3. 'irrigation'\n",
       "4. 'density'\n",
       "5. 'fertilizer'\n",
       "\n",
       "\n"
      ],
      "text/plain": [
       "[1] \"yield\"      \"block\"      \"irrigation\" \"density\"    \"fertilizer\""
      ]
     },
     "metadata": {},
     "output_type": "display_data"
    }
   ],
   "source": [
    "names(dfnew)"
   ]
  },
  {
   "cell_type": "code",
   "execution_count": 6,
   "metadata": {
    "scrolled": true
   },
   "outputs": [
    {
     "data": {
      "text/html": [
       "<ol class=list-inline>\n",
       "\t<li>60</li>\n",
       "\t<li>136</li>\n",
       "</ol>\n"
      ],
      "text/latex": [
       "\\begin{enumerate*}\n",
       "\\item 60\n",
       "\\item 136\n",
       "\\end{enumerate*}\n"
      ],
      "text/markdown": [
       "1. 60\n",
       "2. 136\n",
       "\n",
       "\n"
      ],
      "text/plain": [
       "[1]  60 136"
      ]
     },
     "metadata": {},
     "output_type": "display_data"
    }
   ],
   "source": [
    "range(yield)"
   ]
  },
  {
   "cell_type": "code",
   "execution_count": 7,
   "metadata": {
    "scrolled": true
   },
   "outputs": [
    {
     "data": {
      "text/plain": [
       "     yield        block      irrigation   density   fertilizer\n",
       " Min.   : 60.00   A:18   control  :36   high  :24   N :24     \n",
       " 1st Qu.: 86.00   B:18   irrigated:36   low   :24   NP:24     \n",
       " Median : 95.00   C:18                  medium:24   P :24     \n",
       " Mean   : 99.72   D:18                                        \n",
       " 3rd Qu.:114.00                                               \n",
       " Max.   :136.00                                               "
      ]
     },
     "metadata": {},
     "output_type": "display_data"
    }
   ],
   "source": [
    "summary(dfnew)"
   ]
  },
  {
   "cell_type": "code",
   "execution_count": 8,
   "metadata": {},
   "outputs": [
    {
     "data": {
      "image/png": "[encoded data removed]",
      "text/plain": [
       "Plot with title \"Histogram of yield\""
      ]
     },
     "metadata": {},
     "output_type": "display_data"
    }
   ],
   "source": [
    "hist(yield)"
   ]
  },
  {
   "cell_type": "code",
   "execution_count": 9,
   "metadata": {
    "scrolled": true
   },
   "outputs": [
    {
     "name": "stdout",
     "output_type": "stream",
     "text": [
      "'data.frame':\t72 obs. of  5 variables:\n",
      " $ yield     : int  90 95 107 92 89 92 81 92 93 80 ...\n",
      " $ block     : Factor w/ 4 levels \"A\",\"B\",\"C\",\"D\": 1 1 1 1 1 1 1 1 1 1 ...\n",
      " $ irrigation: Factor w/ 2 levels \"control\",\"irrigated\": 1 1 1 1 1 1 1 1 1 2 ...\n",
      " $ density   : Factor w/ 3 levels \"high\",\"low\",\"medium\": 2 2 2 3 3 3 1 1 1 2 ...\n",
      " $ fertilizer: Factor w/ 3 levels \"N\",\"NP\",\"P\": 1 3 2 1 3 2 1 3 2 1 ...\n"
     ]
    }
   ],
   "source": [
    "str(dfnew)"
   ]
  },
  {
   "cell_type": "code",
   "execution_count": 29,
   "metadata": {},
   "outputs": [
    {
     "data": {
      "text/html": [
       "<table>\n",
       "<thead><tr><th scope=col>block</th><th scope=col>irrigation</th><th scope=col>density</th><th scope=col>fertilizer</th></tr></thead>\n",
       "<tbody>\n",
       "\t<tr><td>A      </td><td>control</td><td>low    </td><td>N      </td></tr>\n",
       "\t<tr><td>A      </td><td>control</td><td>low    </td><td>P      </td></tr>\n",
       "\t<tr><td>A      </td><td>control</td><td>low    </td><td>NP     </td></tr>\n",
       "\t<tr><td>A      </td><td>control</td><td>medium </td><td>N      </td></tr>\n",
       "\t<tr><td>A      </td><td>control</td><td>medium </td><td>P      </td></tr>\n",
       "\t<tr><td>A      </td><td>control</td><td>medium </td><td>NP     </td></tr>\n",
       "</tbody>\n",
       "</table>\n"
      ],
      "text/latex": [
       "\\begin{tabular}{r|llll}\n",
       " block & irrigation & density & fertilizer\\\\\n",
       "\\hline\n",
       "\t A       & control & low     & N      \\\\\n",
       "\t A       & control & low     & P      \\\\\n",
       "\t A       & control & low     & NP     \\\\\n",
       "\t A       & control & medium  & N      \\\\\n",
       "\t A       & control & medium  & P      \\\\\n",
       "\t A       & control & medium  & NP     \\\\\n",
       "\\end{tabular}\n"
      ],
      "text/markdown": [
       "\n",
       "block | irrigation | density | fertilizer | \n",
       "|---|---|---|---|---|---|\n",
       "| A       | control | low     | N       | \n",
       "| A       | control | low     | P       | \n",
       "| A       | control | low     | NP      | \n",
       "| A       | control | medium  | N       | \n",
       "| A       | control | medium  | P       | \n",
       "| A       | control | medium  | NP      | \n",
       "\n",
       "\n"
      ],
      "text/plain": [
       "  block irrigation density fertilizer\n",
       "1 A     control    low     N         \n",
       "2 A     control    low     P         \n",
       "3 A     control    low     NP        \n",
       "4 A     control    medium  N         \n",
       "5 A     control    medium  P         \n",
       "6 A     control    medium  NP        "
      ]
     },
     "metadata": {},
     "output_type": "display_data"
    }
   ],
   "source": [
    "dfnew.dummy = dfnew[c(2,3,4,5)]\n",
    "head(dfnew.dummy)"
   ]
  },
  {
   "cell_type": "code",
   "execution_count": 30,
   "metadata": {
    "scrolled": false
   },
   "outputs": [
    {
     "data": {
      "text/html": [
       "<ol class=list-inline>\n",
       "\t<li>'block.A'</li>\n",
       "\t<li>'block.B'</li>\n",
       "\t<li>'block.C'</li>\n",
       "\t<li>'block.D'</li>\n",
       "\t<li>'irrigation.control'</li>\n",
       "\t<li>'irrigation.irrigated'</li>\n",
       "\t<li>'density.high'</li>\n",
       "\t<li>'density.low'</li>\n",
       "\t<li>'density.medium'</li>\n",
       "\t<li>'fertilizer.N'</li>\n",
       "\t<li>'fertilizer.NP'</li>\n",
       "\t<li>'fertilizer.P'</li>\n",
       "</ol>\n"
      ],
      "text/latex": [
       "\\begin{enumerate*}\n",
       "\\item 'block.A'\n",
       "\\item 'block.B'\n",
       "\\item 'block.C'\n",
       "\\item 'block.D'\n",
       "\\item 'irrigation.control'\n",
       "\\item 'irrigation.irrigated'\n",
       "\\item 'density.high'\n",
       "\\item 'density.low'\n",
       "\\item 'density.medium'\n",
       "\\item 'fertilizer.N'\n",
       "\\item 'fertilizer.NP'\n",
       "\\item 'fertilizer.P'\n",
       "\\end{enumerate*}\n"
      ],
      "text/markdown": [
       "1. 'block.A'\n",
       "2. 'block.B'\n",
       "3. 'block.C'\n",
       "4. 'block.D'\n",
       "5. 'irrigation.control'\n",
       "6. 'irrigation.irrigated'\n",
       "7. 'density.high'\n",
       "8. 'density.low'\n",
       "9. 'density.medium'\n",
       "10. 'fertilizer.N'\n",
       "11. 'fertilizer.NP'\n",
       "12. 'fertilizer.P'\n",
       "\n",
       "\n"
      ],
      "text/plain": [
       " [1] \"block.A\"              \"block.B\"              \"block.C\"             \n",
       " [4] \"block.D\"              \"irrigation.control\"   \"irrigation.irrigated\"\n",
       " [7] \"density.high\"         \"density.low\"          \"density.medium\"      \n",
       "[10] \"fertilizer.N\"         \"fertilizer.NP\"        \"fertilizer.P\"        "
      ]
     },
     "metadata": {},
     "output_type": "display_data"
    }
   ],
   "source": [
    "dfnew.dummy <- dummy.data.frame(dfnew.dummy, sep = \".\")\n",
    " names(dfnew.dummy)"
   ]
  },
  {
   "cell_type": "code",
   "execution_count": 31,
   "metadata": {
    "collapsed": true
   },
   "outputs": [],
   "source": [
    "df1 = dfnew[c(1)];"
   ]
  },
  {
   "cell_type": "code",
   "execution_count": 32,
   "metadata": {},
   "outputs": [],
   "source": [
    "dfnew.dummy = data.frame(df1, dfnew.dummy)"
   ]
  },
  {
   "cell_type": "code",
   "execution_count": 33,
   "metadata": {},
   "outputs": [
    {
     "name": "stderr",
     "output_type": "stream",
     "text": [
      "The following objects are masked from dfnew.dummy (pos = 3):\n",
      "\n",
      "    block.A, block.B, block.C, block.D, density.high, density.low,\n",
      "    density.medium, fertilizer.N, fertilizer.NP, fertilizer.P,\n",
      "    irrigation.control, irrigation.irrigated, yield\n",
      "\n",
      "The following object is masked from dfnew:\n",
      "\n",
      "    yield\n",
      "\n"
     ]
    }
   ],
   "source": [
    "attach(dfnew.dummy)"
   ]
  },
  {
   "cell_type": "code",
   "execution_count": 15,
   "metadata": {},
   "outputs": [],
   "source": [
    "dfnew_reg.fit = lm(yield ~.,data = dfnew.dummy)"
   ]
  },
  {
   "cell_type": "code",
   "execution_count": 16,
   "metadata": {},
   "outputs": [
    {
     "data": {
      "text/plain": [
       "\n",
       "Call:\n",
       "lm(formula = yield ~ ., data = dfnew.dummy)\n",
       "\n",
       "Residuals:\n",
       "    Min      1Q  Median      3Q     Max \n",
       "-36.833  -7.597   0.806   8.615  27.792 \n",
       "\n",
       "Coefficients: (4 not defined because of singularities)\n",
       "                     Estimate Std. Error t value Pr(>|t|)    \n",
       "(Intercept)          116.2639     4.7869  24.288  < 2e-16 ***\n",
       "block.A               -3.7778     4.5131  -0.837  0.40572    \n",
       "block.B                0.4444     4.5131   0.098  0.92186    \n",
       "block.C               -0.8889     4.5131  -0.197  0.84449    \n",
       "block.D                    NA         NA      NA       NA    \n",
       "irrigation.control   -21.4444     3.1912  -6.720 6.14e-09 ***\n",
       "irrigation.irrigated       NA         NA      NA       NA    \n",
       "density.high          -0.8333     3.9084  -0.213  0.83185    \n",
       "density.low          -10.8750     3.9084  -2.782  0.00711 ** \n",
       "density.medium             NA         NA      NA       NA    \n",
       "fertilizer.N          -7.6667     3.9084  -1.962  0.05424 .  \n",
       "fertilizer.NP          5.0833     3.9084   1.301  0.19813    \n",
       "fertilizer.P               NA         NA      NA       NA    \n",
       "---\n",
       "Signif. codes:  0 '***' 0.001 '**' 0.01 '*' 0.05 '.' 0.1 ' ' 1\n",
       "\n",
       "Residual standard error: 13.54 on 63 degrees of freedom\n",
       "Multiple R-squared:  0.5139,\tAdjusted R-squared:  0.4521 \n",
       "F-statistic: 8.324 on 8 and 63 DF,  p-value: 1.259e-07\n"
      ]
     },
     "metadata": {},
     "output_type": "display_data"
    }
   ],
   "source": [
    "summary(dfnew_reg.fit)"
   ]
  },
  {
   "cell_type": "code",
   "execution_count": 17,
   "metadata": {
    "collapsed": true
   },
   "outputs": [],
   "source": [
    "#Model1: yield= 116.2639 - 21.4444 * irrigation.control -10.8750 * density.low"
   ]
  },
  {
   "cell_type": "code",
   "execution_count": 25,
   "metadata": {},
   "outputs": [],
   "source": [
    "dfnew_reg.fit = lm(yield ~irrigation.control+density.low,data = dfnew.dummy)"
   ]
  },
  {
   "cell_type": "code",
   "execution_count": 26,
   "metadata": {},
   "outputs": [
    {
     "data": {
      "text/plain": [
       "\n",
       "Call:\n",
       "lm(formula = yield ~ irrigation.control + density.low, data = dfnew.dummy)\n",
       "\n",
       "Residuals:\n",
       "    Min      1Q  Median      3Q     Max \n",
       "-43.472  -6.736   1.243   8.319  24.972 \n",
       "\n",
       "Coefficients:\n",
       "                   Estimate Std. Error t value Pr(>|t|)    \n",
       "(Intercept)         113.931      2.628  43.345  < 2e-16 ***\n",
       "irrigation.control  -21.444      3.325  -6.450  1.3e-08 ***\n",
       "density.low         -10.458      3.526  -2.966  0.00414 ** \n",
       "---\n",
       "Signif. codes:  0 '***' 0.001 '**' 0.01 '*' 0.05 '.' 0.1 ' ' 1\n",
       "\n",
       "Residual standard error: 14.11 on 69 degrees of freedom\n",
       "Multiple R-squared:  0.4221,\tAdjusted R-squared:  0.4053 \n",
       "F-statistic:  25.2 on 2 and 69 DF,  p-value: 6.08e-09\n"
      ]
     },
     "metadata": {},
     "output_type": "display_data"
    }
   ],
   "source": [
    "summary(dfnew_reg.fit)"
   ]
  },
  {
   "cell_type": "code",
   "execution_count": 20,
   "metadata": {
    "scrolled": false
   },
   "outputs": [
    {
     "data": {
      "image/png": "[encoded data removed]",
      "text/plain": [
       "Plot with title \"\""
      ]
     },
     "metadata": {},
     "output_type": "display_data"
    },
    {
     "data": {
      "image/png": "[encoded data removed]",
      "text/plain": [
       "Plot with title \"\""
      ]
     },
     "metadata": {},
     "output_type": "display_data"
    },
    {
     "data": {
      "image/png": "[encoded data removed]",
      "text/plain": [
       "Plot with title \"\""
      ]
     },
     "metadata": {},
     "output_type": "display_data"
    },
    {
     "data": {
      "image/png": "[encoded data removed]",
      "text/plain": [
       "Plot with title \"\""
      ]
     },
     "metadata": {},
     "output_type": "display_data"
    }
   ],
   "source": [
    "plot(dfnew_reg.fit)"
   ]
  },
  {
   "cell_type": "code",
   "execution_count": 34,
   "metadata": {
    "scrolled": false
   },
   "outputs": [
    {
     "data": {
      "text/plain": [
       "\n",
       "Call:\n",
       "lm(formula = log(yield) ~ ., data = dfnew.dummy)\n",
       "\n",
       "Residuals:\n",
       "     Min       1Q   Median       3Q      Max \n",
       "-0.45410 -0.07741  0.00902  0.09779  0.26121 \n",
       "\n",
       "Coefficients: (4 not defined because of singularities)\n",
       "                      Estimate Std. Error t value Pr(>|t|)    \n",
       "(Intercept)           4.750917   0.049163  96.637  < 2e-16 ***\n",
       "block.A              -0.026669   0.046351  -0.575  0.56709    \n",
       "block.B               0.007532   0.046351   0.163  0.87143    \n",
       "block.C              -0.006411   0.046351  -0.138  0.89044    \n",
       "block.D                     NA         NA      NA       NA    \n",
       "irrigation.control   -0.204339   0.032775  -6.235 4.22e-08 ***\n",
       "irrigation.irrigated        NA         NA      NA       NA    \n",
       "density.high         -0.023482   0.040141  -0.585  0.56064    \n",
       "density.low          -0.113179   0.040141  -2.820  0.00642 ** \n",
       "density.medium              NA         NA      NA       NA    \n",
       "fertilizer.N         -0.082883   0.040141  -2.065  0.04307 *  \n",
       "fertilizer.NP         0.050268   0.040141   1.252  0.21510    \n",
       "fertilizer.P                NA         NA      NA       NA    \n",
       "---\n",
       "Signif. codes:  0 '***' 0.001 '**' 0.01 '*' 0.05 '.' 0.1 ' ' 1\n",
       "\n",
       "Residual standard error: 0.1391 on 63 degrees of freedom\n",
       "Multiple R-squared:  0.4859,\tAdjusted R-squared:  0.4206 \n",
       "F-statistic: 7.444 on 8 and 63 DF,  p-value: 6.26e-07\n"
      ]
     },
     "metadata": {},
     "output_type": "display_data"
    }
   ],
   "source": [
    "dfnew_model.fit = lm(log(yield) ~.,data = dfnew.dummy)\n",
    "summary(dfnew_model.fit)"
   ]
  },
  {
   "cell_type": "code",
   "execution_count": 22,
   "metadata": {
    "collapsed": true
   },
   "outputs": [],
   "source": [
    "#model 2:yield = 4.75 - 0.204339*irrigation.control - 0.113179*density.low - 0.082883*fertilizer.N"
   ]
  },
  {
   "cell_type": "code",
   "execution_count": 35,
   "metadata": {},
   "outputs": [
    {
     "data": {
      "text/plain": [
       "\n",
       "Call:\n",
       "lm(formula = log(yield) ~ irrigation.control + density.low + \n",
       "    fertilizer.N, data = dfnew.dummy)\n",
       "\n",
       "Residuals:\n",
       "     Min       1Q   Median       3Q      Max \n",
       "-0.45412 -0.06624  0.02320  0.09932  0.27293 \n",
       "\n",
       "Coefficients:\n",
       "                   Estimate Std. Error t value Pr(>|t|)    \n",
       "(Intercept)         4.75792    0.02786 170.780  < 2e-16 ***\n",
       "irrigation.control -0.20434    0.03217  -6.352 2.04e-08 ***\n",
       "density.low        -0.10144    0.03412  -2.973  0.00408 ** \n",
       "fertilizer.N       -0.10802    0.03412  -3.166  0.00232 ** \n",
       "---\n",
       "Signif. codes:  0 '***' 0.001 '**' 0.01 '*' 0.05 '.' 0.1 ' ' 1\n",
       "\n",
       "Residual standard error: 0.1365 on 68 degrees of freedom\n",
       "Multiple R-squared:  0.4654,\tAdjusted R-squared:  0.4418 \n",
       "F-statistic: 19.74 on 3 and 68 DF,  p-value: 2.606e-09\n"
      ]
     },
     "metadata": {},
     "output_type": "display_data"
    }
   ],
   "source": [
    "dfnew_reg.fit = lm(log(yield) ~irrigation.control+density.low+fertilizer.N,data = dfnew.dummy)\n",
    "summary(dfnew_reg.fit)"
   ]
  },
  {
   "cell_type": "code",
   "execution_count": 24,
   "metadata": {},
   "outputs": [
    {
     "data": {
      "image/png": "[encoded data removed]",
      "text/plain": [
       "Plot with title \"\""
      ]
     },
     "metadata": {},
     "output_type": "display_data"
    },
    {
     "data": {
      "image/png": "[encoded data removed]",
      "text/plain": [
       "Plot with title \"\""
      ]
     },
     "metadata": {},
     "output_type": "display_data"
    },
    {
     "data": {
      "image/png": "[encoded data removed]",
      "text/plain": [
       "Plot with title \"\""
      ]
     },
     "metadata": {},
     "output_type": "display_data"
    },
    {
     "data": {
      "image/png": "[encoded data removed]",
      "text/plain": [
       "Plot with title \"\""
      ]
     },
     "metadata": {},
     "output_type": "display_data"
    }
   ],
   "source": [
    "plot(dfnew_reg.fit)"
   ]
  }
 ],
 "metadata": {
  "kernelspec": {
   "display_name": "R",
   "language": "R",
   "name": "ir"
  },
  "language_info": {
   "codemirror_mode": "r",
   "file_extension": ".r",
   "mimetype": "text/x-r-source",
   "name": "R",
   "pygments_lexer": "r",
   "version": "3.4.1"
  }
 },
 "nbformat": 4,
 "nbformat_minor": 2
}
